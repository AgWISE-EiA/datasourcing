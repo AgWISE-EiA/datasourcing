{
 "cells": [
  {
   "cell_type": "code",
   "execution_count": 1,
   "id": "31b437d8-9a77-46e5-8921-fb490772c46c",
   "metadata": {
    "execution": {
     "iopub.execute_input": "2023-10-19T09:52:49.545070Z",
     "iopub.status.busy": "2023-10-19T09:52:49.541930Z",
     "iopub.status.idle": "2023-10-19T09:52:49.562911Z",
     "shell.execute_reply": "2023-10-19T09:52:49.561465Z"
    },
    "tags": []
   },
   "outputs": [
    {
     "data": {
      "text/html": [
       "'/home/jovyan/agwise-datasourcing/dataops/datasourcing/Scripts/useCases/useCase_Malawi_Solidaridad'"
      ],
      "text/latex": [
       "'/home/jovyan/agwise-datasourcing/dataops/datasourcing/Scripts/useCases/useCase\\_Malawi\\_Solidaridad'"
      ],
      "text/markdown": [
       "'/home/jovyan/agwise-datasourcing/dataops/datasourcing/Scripts/useCases/useCase_Malawi_Solidaridad'"
      ],
      "text/plain": [
       "[1] \"/home/jovyan/agwise-datasourcing/dataops/datasourcing/Scripts/useCases/useCase_Malawi_Solidaridad\""
      ]
     },
     "metadata": {},
     "output_type": "display_data"
    }
   ],
   "source": [
    "getwd()"
   ]
  },
  {
   "cell_type": "code",
   "execution_count": 2,
   "id": "ddf190ed-1be0-4f19-8493-4f35a31cbfc1",
   "metadata": {
    "execution": {
     "iopub.execute_input": "2023-10-19T09:53:51.742415Z",
     "iopub.status.busy": "2023-10-19T09:53:51.739281Z",
     "iopub.status.idle": "2023-10-19T09:53:57.776878Z",
     "shell.execute_reply": "2023-10-19T09:53:57.775430Z"
    },
    "tags": []
   },
   "outputs": [
    {
     "name": "stderr",
     "output_type": "stream",
     "text": [
      "terra 1.7.46\n",
      "\n",
      "Linking to GEOS 3.10.2, GDAL 3.4.1, PROJ 8.2.1; sf_use_s2() is TRUE\n",
      "\n",
      "This build of rgl does not include OpenGL functions.  Use\n",
      " rglwidget() to display results, e.g. via options(rgl.printRglwidget = TRUE).\n",
      "\n",
      "Loading required package: sp\n",
      "\n",
      "Please note that rgdal will be retired during October 2023,\n",
      "plan transition to sf/stars/terra functions using GDAL and PROJ\n",
      "at your earliest convenience.\n",
      "See https://r-spatial.org/r/2023/05/15/evolution4.html and https://github.com/r-spatial/evolution\n",
      "rgdal: version: 1.6-7, (SVN revision 1203)\n",
      "Geospatial Data Abstraction Library extensions to R successfully loaded\n",
      "Loaded GDAL runtime: GDAL 3.4.1, released 2021/12/27\n",
      "Path to GDAL shared files: /usr/share/gdal\n",
      "GDAL binary built with GEOS: TRUE \n",
      "Loaded PROJ runtime: Rel. 8.2.1, January 1st, 2022, [PJ_VERSION: 821]\n",
      "Path to PROJ shared files: /home/jovyan/.local/share/proj:/usr/share/proj\n",
      "PROJ CDN enabled: TRUE\n",
      "Linking to sp version:2.0-0\n",
      "To mute warnings of possible GDAL/OSR exportToProj4() degradation,\n",
      "use options(\"rgdal_show_exportToProj4_warnings\"=\"none\") before loading sp or rgdal.\n",
      "\n",
      "\n",
      "Attaching package: ‘rgdal’\n",
      "\n",
      "\n",
      "The following object is masked from ‘package:terra’:\n",
      "\n",
      "    project\n",
      "\n",
      "\n",
      "Warning message in system(\"timedatectl\", intern = TRUE):\n",
      "“running command 'timedatectl' had status 1”\n",
      "── \u001b[1mAttaching packages\u001b[22m ─────────────────────────────────────── tidyverse 1.3.2 ──\n",
      "\u001b[32m✔\u001b[39m \u001b[34mggplot2\u001b[39m 3.4.3     \u001b[32m✔\u001b[39m \u001b[34mpurrr  \u001b[39m 1.0.2\n",
      "\u001b[32m✔\u001b[39m \u001b[34mtibble \u001b[39m 3.2.1     \u001b[32m✔\u001b[39m \u001b[34mdplyr  \u001b[39m 1.1.3\n",
      "\u001b[32m✔\u001b[39m \u001b[34mtidyr  \u001b[39m 1.3.0     \u001b[32m✔\u001b[39m \u001b[34mstringr\u001b[39m 1.5.0\n",
      "\u001b[32m✔\u001b[39m \u001b[34mreadr  \u001b[39m 2.1.4     \u001b[32m✔\u001b[39m \u001b[34mforcats\u001b[39m 1.0.0\n",
      "── \u001b[1mConflicts\u001b[22m ────────────────────────────────────────── tidyverse_conflicts() ──\n",
      "\u001b[31m✖\u001b[39m \u001b[34mtidyr\u001b[39m::\u001b[32mextract()\u001b[39m masks \u001b[34mterra\u001b[39m::extract()\n",
      "\u001b[31m✖\u001b[39m \u001b[34mdplyr\u001b[39m::\u001b[32mfilter()\u001b[39m  masks \u001b[34mstats\u001b[39m::filter()\n",
      "\u001b[31m✖\u001b[39m \u001b[34mdplyr\u001b[39m::\u001b[32mlag()\u001b[39m     masks \u001b[34mstats\u001b[39m::lag()\n",
      "\n",
      "Attaching package: ‘lubridate’\n",
      "\n",
      "\n",
      "The following objects are masked from ‘package:terra’:\n",
      "\n",
      "    intersect, union\n",
      "\n",
      "\n",
      "The following objects are masked from ‘package:base’:\n",
      "\n",
      "    date, intersect, setdiff, union\n",
      "\n",
      "\n",
      "------------------------------------------------------------------------------\n",
      "\n",
      "You have loaded plyr after dplyr - this is likely to cause problems.\n",
      "If you need functions from both plyr and dplyr, please load plyr first, then dplyr:\n",
      "library(plyr); library(dplyr)\n",
      "\n",
      "------------------------------------------------------------------------------\n",
      "\n",
      "\n",
      "Attaching package: ‘plyr’\n",
      "\n",
      "\n",
      "The following objects are masked from ‘package:dplyr’:\n",
      "\n",
      "    arrange, count, desc, failwith, id, mutate, rename, summarise,\n",
      "    summarize\n",
      "\n",
      "\n",
      "The following object is masked from ‘package:purrr’:\n",
      "\n",
      "    compact\n",
      "\n",
      "\n"
     ]
    }
   ],
   "source": [
    "source(\"~/agwise-datasourcing/dataops/datasourcing/Scripts/generic/get_geoSpatialData.R\")"
   ]
  },
  {
   "cell_type": "code",
   "execution_count": 3,
   "id": "901e5654-b572-4ac5-a112-4cc5721194b6",
   "metadata": {
    "execution": {
     "iopub.execute_input": "2023-10-19T09:54:09.507734Z",
     "iopub.status.busy": "2023-10-19T09:54:09.503937Z",
     "iopub.status.idle": "2023-10-19T09:54:09.526357Z",
     "shell.execute_reply": "2023-10-19T09:54:09.524634Z"
    },
    "tags": []
   },
   "outputs": [
    {
     "data": {
      "text/html": [
       "<style>\n",
       ".list-inline {list-style: none; margin:0; padding: 0}\n",
       ".list-inline>li {display: inline-block}\n",
       ".list-inline>li:not(:last-child)::after {content: \"\\00b7\"; padding: 0 .5ex}\n",
       "</style>\n",
       "<ol class=list-inline><li>'extract_geoSpatialPointData'</li><li>'get_soil_DEM_pointData'</li><li>'get_weather_pointData'</li><li>'get_weather_seasonality'</li><li>'get_WeatherSummarydata'</li><li>'installed_packages'</li><li>'join_geospatial_4ML'</li><li>'packages_required'</li><li>'summarize_pointdata'</li></ol>\n"
      ],
      "text/latex": [
       "\\begin{enumerate*}\n",
       "\\item 'extract\\_geoSpatialPointData'\n",
       "\\item 'get\\_soil\\_DEM\\_pointData'\n",
       "\\item 'get\\_weather\\_pointData'\n",
       "\\item 'get\\_weather\\_seasonality'\n",
       "\\item 'get\\_WeatherSummarydata'\n",
       "\\item 'installed\\_packages'\n",
       "\\item 'join\\_geospatial\\_4ML'\n",
       "\\item 'packages\\_required'\n",
       "\\item 'summarize\\_pointdata'\n",
       "\\end{enumerate*}\n"
      ],
      "text/markdown": [
       "1. 'extract_geoSpatialPointData'\n",
       "2. 'get_soil_DEM_pointData'\n",
       "3. 'get_weather_pointData'\n",
       "4. 'get_weather_seasonality'\n",
       "5. 'get_WeatherSummarydata'\n",
       "6. 'installed_packages'\n",
       "7. 'join_geospatial_4ML'\n",
       "8. 'packages_required'\n",
       "9. 'summarize_pointdata'\n",
       "\n",
       "\n"
      ],
      "text/plain": [
       "[1] \"extract_geoSpatialPointData\" \"get_soil_DEM_pointData\"     \n",
       "[3] \"get_weather_pointData\"       \"get_weather_seasonality\"    \n",
       "[5] \"get_WeatherSummarydata\"      \"installed_packages\"         \n",
       "[7] \"join_geospatial_4ML\"         \"packages_required\"          \n",
       "[9] \"summarize_pointdata\"        "
      ]
     },
     "metadata": {},
     "output_type": "display_data"
    }
   ],
   "source": [
    "ls()"
   ]
  },
  {
   "cell_type": "code",
   "execution_count": 4,
   "id": "ecad5a6b-7e13-4392-ad70-4a724de0db1d",
   "metadata": {
    "execution": {
     "iopub.execute_input": "2023-10-19T09:54:49.167699Z",
     "iopub.status.busy": "2023-10-19T09:54:49.163934Z",
     "iopub.status.idle": "2023-10-19T09:54:49.373651Z",
     "shell.execute_reply": "2023-10-19T09:54:49.372246Z"
    },
    "tags": []
   },
   "outputs": [
    {
     "data": {
      "text/html": [
       "<table class=\"dataframe\">\n",
       "<caption>A matrix: 2 × 6 of type dbl</caption>\n",
       "<thead>\n",
       "\t<tr><th></th><th scope=col>used</th><th scope=col>(Mb)</th><th scope=col>gc trigger</th><th scope=col>(Mb)</th><th scope=col>max used</th><th scope=col>(Mb)</th></tr>\n",
       "</thead>\n",
       "<tbody>\n",
       "\t<tr><th scope=row>Ncells</th><td>2079715</td><td>111.1</td><td>4109304</td><td>219.5</td><td>3462877</td><td>185.0</td></tr>\n",
       "\t<tr><th scope=row>Vcells</th><td>3033786</td><td> 23.2</td><td>8388608</td><td> 64.0</td><td>5035249</td><td> 38.5</td></tr>\n",
       "</tbody>\n",
       "</table>\n"
      ],
      "text/latex": [
       "A matrix: 2 × 6 of type dbl\n",
       "\\begin{tabular}{r|llllll}\n",
       "  & used & (Mb) & gc trigger & (Mb) & max used & (Mb)\\\\\n",
       "\\hline\n",
       "\tNcells & 2079715 & 111.1 & 4109304 & 219.5 & 3462877 & 185.0\\\\\n",
       "\tVcells & 3033786 &  23.2 & 8388608 &  64.0 & 5035249 &  38.5\\\\\n",
       "\\end{tabular}\n"
      ],
      "text/markdown": [
       "\n",
       "A matrix: 2 × 6 of type dbl\n",
       "\n",
       "| <!--/--> | used | (Mb) | gc trigger | (Mb) | max used | (Mb) |\n",
       "|---|---|---|---|---|---|---|\n",
       "| Ncells | 2079715 | 111.1 | 4109304 | 219.5 | 3462877 | 185.0 |\n",
       "| Vcells | 3033786 |  23.2 | 8388608 |  64.0 | 5035249 |  38.5 |\n",
       "\n"
      ],
      "text/plain": [
       "       used    (Mb)  gc trigger (Mb)  max used (Mb) \n",
       "Ncells 2079715 111.1 4109304    219.5 3462877  185.0\n",
       "Vcells 3033786  23.2 8388608     64.0 5035249   38.5"
      ]
     },
     "metadata": {},
     "output_type": "display_data"
    }
   ],
   "source": [
    "gc()"
   ]
  },
  {
   "cell_type": "code",
   "execution_count": 6,
   "id": "ce139598-2445-4e5a-9870-62645a14b0b1",
   "metadata": {
    "execution": {
     "iopub.execute_input": "2023-10-19T09:55:34.718949Z",
     "iopub.status.busy": "2023-10-19T09:55:34.715851Z",
     "iopub.status.idle": "2023-10-19T09:55:34.751998Z",
     "shell.execute_reply": "2023-10-19T09:55:34.744335Z"
    },
    "tags": []
   },
   "outputs": [
    {
     "ename": "ERROR",
     "evalue": "Error in rs.restartR(): could not find function \"rs.restartR\"\n",
     "output_type": "error",
     "traceback": [
      "Error in rs.restartR(): could not find function \"rs.restartR\"\nTraceback:\n"
     ]
    }
   ],
   "source": [
    "rs.restartR()"
   ]
  },
  {
   "cell_type": "code",
   "execution_count": 7,
   "id": "cbca5d93-81ef-4c5d-a08e-385e0664c941",
   "metadata": {
    "execution": {
     "iopub.execute_input": "2023-10-19T09:56:22.980793Z",
     "iopub.status.busy": "2023-10-19T09:56:22.977610Z",
     "iopub.status.idle": "2023-10-19T09:56:22.997365Z",
     "shell.execute_reply": "2023-10-19T09:56:22.995840Z"
    },
    "tags": []
   },
   "outputs": [
    {
     "data": {
      "text/html": [
       "<style>\n",
       ".list-inline {list-style: none; margin:0; padding: 0}\n",
       ".list-inline>li {display: inline-block}\n",
       ".list-inline>li:not(:last-child)::after {content: \"\\00b7\"; padding: 0 .5ex}\n",
       "</style>\n",
       "<ol class=list-inline><li>'extract_geoSpatialPointData'</li><li>'get_soil_DEM_pointData'</li><li>'get_weather_pointData'</li><li>'get_weather_seasonality'</li><li>'get_WeatherSummarydata'</li><li>'installed_packages'</li><li>'join_geospatial_4ML'</li><li>'packages_required'</li><li>'summarize_pointdata'</li></ol>\n"
      ],
      "text/latex": [
       "\\begin{enumerate*}\n",
       "\\item 'extract\\_geoSpatialPointData'\n",
       "\\item 'get\\_soil\\_DEM\\_pointData'\n",
       "\\item 'get\\_weather\\_pointData'\n",
       "\\item 'get\\_weather\\_seasonality'\n",
       "\\item 'get\\_WeatherSummarydata'\n",
       "\\item 'installed\\_packages'\n",
       "\\item 'join\\_geospatial\\_4ML'\n",
       "\\item 'packages\\_required'\n",
       "\\item 'summarize\\_pointdata'\n",
       "\\end{enumerate*}\n"
      ],
      "text/markdown": [
       "1. 'extract_geoSpatialPointData'\n",
       "2. 'get_soil_DEM_pointData'\n",
       "3. 'get_weather_pointData'\n",
       "4. 'get_weather_seasonality'\n",
       "5. 'get_WeatherSummarydata'\n",
       "6. 'installed_packages'\n",
       "7. 'join_geospatial_4ML'\n",
       "8. 'packages_required'\n",
       "9. 'summarize_pointdata'\n",
       "\n",
       "\n"
      ],
      "text/plain": [
       "[1] \"extract_geoSpatialPointData\" \"get_soil_DEM_pointData\"     \n",
       "[3] \"get_weather_pointData\"       \"get_weather_seasonality\"    \n",
       "[5] \"get_WeatherSummarydata\"      \"installed_packages\"         \n",
       "[7] \"join_geospatial_4ML\"         \"packages_required\"          \n",
       "[9] \"summarize_pointdata\"        "
      ]
     },
     "metadata": {},
     "output_type": "display_data"
    }
   ],
   "source": [
    "ls()"
   ]
  },
  {
   "cell_type": "code",
   "execution_count": 8,
   "id": "17ac9b1f-5de0-4402-943d-33fb1cf3fca1",
   "metadata": {
    "execution": {
     "iopub.execute_input": "2023-10-19T09:57:22.129315Z",
     "iopub.status.busy": "2023-10-19T09:57:22.125997Z",
     "iopub.status.idle": "2023-10-19T09:57:22.144139Z",
     "shell.execute_reply": "2023-10-19T09:57:22.142591Z"
    },
    "tags": []
   },
   "outputs": [],
   "source": [
    "rm(list=ls())"
   ]
  },
  {
   "cell_type": "code",
   "execution_count": 9,
   "id": "c9491865-03b2-4840-a1dc-7c1e483d6da9",
   "metadata": {
    "execution": {
     "iopub.execute_input": "2023-10-19T09:57:29.123178Z",
     "iopub.status.busy": "2023-10-19T09:57:29.119871Z",
     "iopub.status.idle": "2023-10-19T09:57:29.317585Z",
     "shell.execute_reply": "2023-10-19T09:57:29.316172Z"
    },
    "tags": []
   },
   "outputs": [
    {
     "data": {
      "text/html": [
       "<table class=\"dataframe\">\n",
       "<caption>A matrix: 2 × 6 of type dbl</caption>\n",
       "<thead>\n",
       "\t<tr><th></th><th scope=col>used</th><th scope=col>(Mb)</th><th scope=col>gc trigger</th><th scope=col>(Mb)</th><th scope=col>max used</th><th scope=col>(Mb)</th></tr>\n",
       "</thead>\n",
       "<tbody>\n",
       "\t<tr><th scope=row>Ncells</th><td>2071470</td><td>110.7</td><td>4109304</td><td>219.5</td><td>3462877</td><td>185.0</td></tr>\n",
       "\t<tr><th scope=row>Vcells</th><td>3044061</td><td> 23.3</td><td>8388608</td><td> 64.0</td><td>5035249</td><td> 38.5</td></tr>\n",
       "</tbody>\n",
       "</table>\n"
      ],
      "text/latex": [
       "A matrix: 2 × 6 of type dbl\n",
       "\\begin{tabular}{r|llllll}\n",
       "  & used & (Mb) & gc trigger & (Mb) & max used & (Mb)\\\\\n",
       "\\hline\n",
       "\tNcells & 2071470 & 110.7 & 4109304 & 219.5 & 3462877 & 185.0\\\\\n",
       "\tVcells & 3044061 &  23.3 & 8388608 &  64.0 & 5035249 &  38.5\\\\\n",
       "\\end{tabular}\n"
      ],
      "text/markdown": [
       "\n",
       "A matrix: 2 × 6 of type dbl\n",
       "\n",
       "| <!--/--> | used | (Mb) | gc trigger | (Mb) | max used | (Mb) |\n",
       "|---|---|---|---|---|---|---|\n",
       "| Ncells | 2071470 | 110.7 | 4109304 | 219.5 | 3462877 | 185.0 |\n",
       "| Vcells | 3044061 |  23.3 | 8388608 |  64.0 | 5035249 |  38.5 |\n",
       "\n"
      ],
      "text/plain": [
       "       used    (Mb)  gc trigger (Mb)  max used (Mb) \n",
       "Ncells 2071470 110.7 4109304    219.5 3462877  185.0\n",
       "Vcells 3044061  23.3 8388608     64.0 5035249   38.5"
      ]
     },
     "metadata": {},
     "output_type": "display_data"
    }
   ],
   "source": [
    "gc()"
   ]
  },
  {
   "cell_type": "code",
   "execution_count": 12,
   "id": "107c5d8d-4974-4230-a6f4-919ccbb9fea8",
   "metadata": {
    "execution": {
     "iopub.execute_input": "2023-10-19T10:40:46.530209Z",
     "iopub.status.busy": "2023-10-19T10:40:46.527109Z",
     "iopub.status.idle": "2023-10-19T10:40:46.546556Z",
     "shell.execute_reply": "2023-10-19T10:40:46.544953Z"
    },
    "tags": []
   },
   "outputs": [
    {
     "data": {
      "text/html": [
       "'/home/jovyan/agwise-datasourcing/dataops/datasourcing/Scripts'"
      ],
      "text/latex": [
       "'/home/jovyan/agwise-datasourcing/dataops/datasourcing/Scripts'"
      ],
      "text/markdown": [
       "'/home/jovyan/agwise-datasourcing/dataops/datasourcing/Scripts'"
      ],
      "text/plain": [
       "[1] \"/home/jovyan/agwise-datasourcing/dataops/datasourcing/Scripts\""
      ]
     },
     "metadata": {},
     "output_type": "display_data"
    }
   ],
   "source": [
    "getwd()"
   ]
  },
  {
   "cell_type": "code",
   "execution_count": 11,
   "id": "b07eec93-fc0e-452c-a02d-9f1ae3018d7c",
   "metadata": {
    "execution": {
     "iopub.execute_input": "2023-10-19T10:40:42.008205Z",
     "iopub.status.busy": "2023-10-19T10:40:42.005047Z",
     "iopub.status.idle": "2023-10-19T10:40:42.022683Z",
     "shell.execute_reply": "2023-10-19T10:40:42.021050Z"
    },
    "tags": []
   },
   "outputs": [],
   "source": [
    "setwd(\"../../\")"
   ]
  },
  {
   "cell_type": "code",
   "execution_count": 13,
   "id": "cf13f9fd-c68e-47df-addb-bedf535b428b",
   "metadata": {
    "execution": {
     "iopub.execute_input": "2023-10-19T10:41:13.187885Z",
     "iopub.status.busy": "2023-10-19T10:41:13.184726Z",
     "iopub.status.idle": "2023-10-19T10:41:13.204824Z",
     "shell.execute_reply": "2023-10-19T10:41:13.203211Z"
    },
    "tags": []
   },
   "outputs": [
    {
     "data": {
      "text/html": [
       "'/home/jovyan/agwise-datasourcing/dataops/datasourcing/Scripts'"
      ],
      "text/latex": [
       "'/home/jovyan/agwise-datasourcing/dataops/datasourcing/Scripts'"
      ],
      "text/markdown": [
       "'/home/jovyan/agwise-datasourcing/dataops/datasourcing/Scripts'"
      ],
      "text/plain": [
       "[1] \"/home/jovyan/agwise-datasourcing/dataops/datasourcing/Scripts\""
      ]
     },
     "metadata": {},
     "output_type": "display_data"
    }
   ],
   "source": [
    "getwd()"
   ]
  },
  {
   "cell_type": "code",
   "execution_count": 14,
   "id": "3a6a0656-aac0-4c89-be27-3b1b6da90774",
   "metadata": {
    "execution": {
     "iopub.execute_input": "2023-10-19T10:42:54.235926Z",
     "iopub.status.busy": "2023-10-19T10:42:54.232817Z",
     "iopub.status.idle": "2023-10-19T10:42:54.250417Z",
     "shell.execute_reply": "2023-10-19T10:42:54.248910Z"
    },
    "tags": []
   },
   "outputs": [],
   "source": [
    "setwd(\"../Data/useCase_Malawi_Solidaridad/Soybean/result\")"
   ]
  },
  {
   "cell_type": "code",
   "execution_count": 15,
   "id": "c443baf0-ff95-41b3-b9ac-9ff4bd4e9354",
   "metadata": {
    "execution": {
     "iopub.execute_input": "2023-10-19T10:43:02.825078Z",
     "iopub.status.busy": "2023-10-19T10:43:02.821792Z",
     "iopub.status.idle": "2023-10-19T10:43:02.842563Z",
     "shell.execute_reply": "2023-10-19T10:43:02.841084Z"
    },
    "tags": []
   },
   "outputs": [
    {
     "data": {
      "text/html": [
       "'/home/jovyan/agwise-datasourcing/dataops/datasourcing/Data/useCase_Malawi_Solidaridad/Soybean/result'"
      ],
      "text/latex": [
       "'/home/jovyan/agwise-datasourcing/dataops/datasourcing/Data/useCase\\_Malawi\\_Solidaridad/Soybean/result'"
      ],
      "text/markdown": [
       "'/home/jovyan/agwise-datasourcing/dataops/datasourcing/Data/useCase_Malawi_Solidaridad/Soybean/result'"
      ],
      "text/plain": [
       "[1] \"/home/jovyan/agwise-datasourcing/dataops/datasourcing/Data/useCase_Malawi_Solidaridad/Soybean/result\""
      ]
     },
     "metadata": {},
     "output_type": "display_data"
    }
   ],
   "source": [
    "getwd()"
   ]
  },
  {
   "cell_type": "code",
   "execution_count": 17,
   "id": "1826452c-5003-4173-a979-feea4c7391f0",
   "metadata": {
    "execution": {
     "iopub.execute_input": "2023-10-19T10:43:19.849314Z",
     "iopub.status.busy": "2023-10-19T10:43:19.845381Z",
     "iopub.status.idle": "2023-10-19T10:43:19.868265Z",
     "shell.execute_reply": "2023-10-19T10:43:19.866579Z"
    },
    "tags": []
   },
   "outputs": [
    {
     "data": {
      "text/html": [],
      "text/latex": [],
      "text/markdown": [],
      "text/plain": [
       "character(0)"
      ]
     },
     "metadata": {},
     "output_type": "display_data"
    }
   ],
   "source": [
    "ls()"
   ]
  },
  {
   "cell_type": "code",
   "execution_count": 18,
   "id": "5b76197c-53bd-4863-88cc-f3162b9a8a6a",
   "metadata": {
    "execution": {
     "iopub.execute_input": "2023-10-19T10:43:28.998728Z",
     "iopub.status.busy": "2023-10-19T10:43:28.994876Z",
     "iopub.status.idle": "2023-10-19T10:43:29.230402Z",
     "shell.execute_reply": "2023-10-19T10:43:29.229053Z"
    },
    "tags": []
   },
   "outputs": [
    {
     "data": {
      "text/html": [
       "<table class=\"dataframe\">\n",
       "<caption>A matrix: 2 × 6 of type dbl</caption>\n",
       "<thead>\n",
       "\t<tr><th></th><th scope=col>used</th><th scope=col>(Mb)</th><th scope=col>gc trigger</th><th scope=col>(Mb)</th><th scope=col>max used</th><th scope=col>(Mb)</th></tr>\n",
       "</thead>\n",
       "<tbody>\n",
       "\t<tr><th scope=row>Ncells</th><td>2071463</td><td>110.7</td><td>4109304</td><td>219.5</td><td>3898772</td><td>208.3</td></tr>\n",
       "\t<tr><th scope=row>Vcells</th><td>3044075</td><td> 23.3</td><td>8388608</td><td> 64.0</td><td>5035249</td><td> 38.5</td></tr>\n",
       "</tbody>\n",
       "</table>\n"
      ],
      "text/latex": [
       "A matrix: 2 × 6 of type dbl\n",
       "\\begin{tabular}{r|llllll}\n",
       "  & used & (Mb) & gc trigger & (Mb) & max used & (Mb)\\\\\n",
       "\\hline\n",
       "\tNcells & 2071463 & 110.7 & 4109304 & 219.5 & 3898772 & 208.3\\\\\n",
       "\tVcells & 3044075 &  23.3 & 8388608 &  64.0 & 5035249 &  38.5\\\\\n",
       "\\end{tabular}\n"
      ],
      "text/markdown": [
       "\n",
       "A matrix: 2 × 6 of type dbl\n",
       "\n",
       "| <!--/--> | used | (Mb) | gc trigger | (Mb) | max used | (Mb) |\n",
       "|---|---|---|---|---|---|---|\n",
       "| Ncells | 2071463 | 110.7 | 4109304 | 219.5 | 3898772 | 208.3 |\n",
       "| Vcells | 3044075 |  23.3 | 8388608 |  64.0 | 5035249 |  38.5 |\n",
       "\n"
      ],
      "text/plain": [
       "       used    (Mb)  gc trigger (Mb)  max used (Mb) \n",
       "Ncells 2071463 110.7 4109304    219.5 3898772  208.3\n",
       "Vcells 3044075  23.3 8388608     64.0 5035249   38.5"
      ]
     },
     "metadata": {},
     "output_type": "display_data"
    }
   ],
   "source": [
    "gc()"
   ]
  },
  {
   "cell_type": "code",
   "execution_count": 19,
   "id": "d6f71876-ea72-4ddc-8397-9907afaf06f1",
   "metadata": {
    "execution": {
     "iopub.execute_input": "2023-10-19T10:45:19.583708Z",
     "iopub.status.busy": "2023-10-19T10:45:19.580579Z",
     "iopub.status.idle": "2023-10-19T10:45:19.612967Z",
     "shell.execute_reply": "2023-10-19T10:45:19.611566Z"
    },
    "tags": []
   },
   "outputs": [],
   "source": [
    "library(rstudioapi)"
   ]
  },
  {
   "cell_type": "code",
   "execution_count": 20,
   "id": "83dda4f7-db04-4b4d-b893-93aed08a84f8",
   "metadata": {
    "execution": {
     "iopub.execute_input": "2023-10-19T10:45:26.835638Z",
     "iopub.status.busy": "2023-10-19T10:45:26.832471Z",
     "iopub.status.idle": "2023-10-19T10:45:26.852627Z",
     "shell.execute_reply": "2023-10-19T10:45:26.851040Z"
    },
    "tags": []
   },
   "outputs": [
    {
     "data": {
      "text/html": [
       "4"
      ],
      "text/latex": [
       "4"
      ],
      "text/markdown": [
       "4"
      ],
      "text/plain": [
       "[1] 4"
      ]
     },
     "metadata": {},
     "output_type": "display_data"
    }
   ],
   "source": [
    "2+2"
   ]
  },
  {
   "cell_type": "code",
   "execution_count": 21,
   "id": "df303286-35cc-4397-9053-bd1af9a0a6da",
   "metadata": {
    "execution": {
     "iopub.execute_input": "2023-10-19T10:45:43.541866Z",
     "iopub.status.busy": "2023-10-19T10:45:43.538751Z",
     "iopub.status.idle": "2023-10-19T10:45:43.558615Z",
     "shell.execute_reply": "2023-10-19T10:45:43.557070Z"
    },
    "tags": []
   },
   "outputs": [
    {
     "ename": "ERROR",
     "evalue": "Error: RStudio not running\n",
     "output_type": "error",
     "traceback": [
      "Error: RStudio not running\nTraceback:\n",
      "1. restartSession(command = \"print('x')\")",
      "2. callFun(\"restartSession\", command)",
      "3. verifyAvailable()",
      "4. stop(\"RStudio not running\", call. = FALSE)"
     ]
    }
   ],
   "source": [
    "restartSession(command = \"print('x')\")"
   ]
  },
  {
   "cell_type": "code",
   "execution_count": 22,
   "id": "71a34366-87e2-4ed5-af15-cfc4ea49a9ce",
   "metadata": {
    "execution": {
     "iopub.execute_input": "2023-10-19T10:47:29.551585Z",
     "iopub.status.busy": "2023-10-19T10:47:29.548397Z",
     "iopub.status.idle": "2023-10-19T10:47:29.568253Z",
     "shell.execute_reply": "2023-10-19T10:47:29.566735Z"
    },
    "tags": []
   },
   "outputs": [
    {
     "ename": "ERROR",
     "evalue": "Error in clearCache(): could not find function \"clearCache\"\n",
     "output_type": "error",
     "traceback": [
      "Error in clearCache(): could not find function \"clearCache\"\nTraceback:\n"
     ]
    }
   ],
   "source": [
    "\n",
    "clearCache()"
   ]
  },
  {
   "cell_type": "code",
   "execution_count": 23,
   "id": "e815be49-7c1f-470d-9d3c-5416c01c8764",
   "metadata": {
    "execution": {
     "iopub.execute_input": "2023-10-19T10:48:22.032023Z",
     "iopub.status.busy": "2023-10-19T10:48:22.028702Z",
     "iopub.status.idle": "2023-10-19T10:48:22.049852Z",
     "shell.execute_reply": "2023-10-19T10:48:22.048079Z"
    },
    "tags": []
   },
   "outputs": [
    {
     "ename": "ERROR",
     "evalue": "Error in clearCache(path = getwd()): could not find function \"clearCache\"\n",
     "output_type": "error",
     "traceback": [
      "Error in clearCache(path = getwd()): could not find function \"clearCache\"\nTraceback:\n"
     ]
    }
   ],
   "source": [
    "clearCache(path=getwd())"
   ]
  },
  {
   "cell_type": "code",
   "execution_count": 26,
   "id": "acdea603-1f56-49bc-bd7f-7384619477dd",
   "metadata": {
    "execution": {
     "iopub.execute_input": "2023-10-19T10:50:29.693662Z",
     "iopub.status.busy": "2023-10-19T10:50:29.690612Z",
     "iopub.status.idle": "2023-10-19T10:50:32.734439Z",
     "shell.execute_reply": "2023-10-19T10:50:32.730329Z"
    },
    "tags": []
   },
   "outputs": [
    {
     "name": "stderr",
     "output_type": "stream",
     "text": [
      "Installing package into ‘/home/jovyan/R/x86_64-pc-linux-gnu-library/4.2’\n",
      "(as ‘lib’ is unspecified)\n",
      "\n"
     ]
    }
   ],
   "source": [
    "install.packages(\"R.cache\")"
   ]
  },
  {
   "cell_type": "code",
   "execution_count": 29,
   "id": "b43711e8-4962-4eea-be50-c0984026e460",
   "metadata": {
    "execution": {
     "iopub.execute_input": "2023-10-19T10:51:27.027879Z",
     "iopub.status.busy": "2023-10-19T10:51:27.024730Z",
     "iopub.status.idle": "2023-10-19T10:51:27.055526Z",
     "shell.execute_reply": "2023-10-19T10:51:27.054079Z"
    },
    "tags": []
   },
   "outputs": [],
   "source": [
    "clearCache(path=getwd())"
   ]
  },
  {
   "cell_type": "code",
   "execution_count": 28,
   "id": "47d51e4e-eae5-4dd2-ba48-2eb61108408b",
   "metadata": {
    "execution": {
     "iopub.execute_input": "2023-10-19T10:51:21.775596Z",
     "iopub.status.busy": "2023-10-19T10:51:21.772446Z",
     "iopub.status.idle": "2023-10-19T10:51:21.892289Z",
     "shell.execute_reply": "2023-10-19T10:51:21.890851Z"
    },
    "tags": []
   },
   "outputs": [
    {
     "name": "stderr",
     "output_type": "stream",
     "text": [
      "Loading required package: R.cache\n",
      "\n",
      "R.cache v0.16.0 (2022-07-21 16:20:02 UTC) successfully loaded. See ?R.cache for help.\n",
      "\n"
     ]
    }
   ],
   "source": [
    "require(R.cache)"
   ]
  },
  {
   "cell_type": "code",
   "execution_count": 30,
   "id": "d6539bd6-71cb-4659-894e-bea9f97783ce",
   "metadata": {
    "execution": {
     "iopub.execute_input": "2023-10-19T10:51:38.675788Z",
     "iopub.status.busy": "2023-10-19T10:51:38.672534Z",
     "iopub.status.idle": "2023-10-19T10:51:38.692593Z",
     "shell.execute_reply": "2023-10-19T10:51:38.691039Z"
    },
    "tags": []
   },
   "outputs": [
    {
     "data": {
      "text/html": [
       "'/home/jovyan/agwise-datasourcing/dataops/datasourcing/Data/useCase_Malawi_Solidaridad/Soybean/result'"
      ],
      "text/latex": [
       "'/home/jovyan/agwise-datasourcing/dataops/datasourcing/Data/useCase\\_Malawi\\_Solidaridad/Soybean/result'"
      ],
      "text/markdown": [
       "'/home/jovyan/agwise-datasourcing/dataops/datasourcing/Data/useCase_Malawi_Solidaridad/Soybean/result'"
      ],
      "text/plain": [
       "[1] \"/home/jovyan/agwise-datasourcing/dataops/datasourcing/Data/useCase_Malawi_Solidaridad/Soybean/result\""
      ]
     },
     "metadata": {},
     "output_type": "display_data"
    }
   ],
   "source": [
    "getwd()"
   ]
  },
  {
   "cell_type": "code",
   "execution_count": 31,
   "id": "c920d934-f8c3-4bd7-a2ec-03cc5f09f587",
   "metadata": {
    "execution": {
     "iopub.execute_input": "2023-10-19T10:51:49.787855Z",
     "iopub.status.busy": "2023-10-19T10:51:49.785568Z",
     "iopub.status.idle": "2023-10-19T10:51:49.809972Z",
     "shell.execute_reply": "2023-10-19T10:51:49.808519Z"
    },
    "tags": []
   },
   "outputs": [],
   "source": [
    "clearCache(path=getwd())"
   ]
  },
  {
   "cell_type": "code",
   "execution_count": 32,
   "id": "2c096efa-6882-44ff-94e5-0fb8c9afd7f4",
   "metadata": {
    "execution": {
     "iopub.execute_input": "2023-10-19T10:52:00.685260Z",
     "iopub.status.busy": "2023-10-19T10:52:00.682240Z",
     "iopub.status.idle": "2023-10-19T10:52:00.919617Z",
     "shell.execute_reply": "2023-10-19T10:52:00.918265Z"
    },
    "tags": []
   },
   "outputs": [
    {
     "data": {
      "text/html": [
       "<table class=\"dataframe\">\n",
       "<caption>A matrix: 2 × 6 of type dbl</caption>\n",
       "<thead>\n",
       "\t<tr><th></th><th scope=col>used</th><th scope=col>(Mb)</th><th scope=col>gc trigger</th><th scope=col>(Mb)</th><th scope=col>max used</th><th scope=col>(Mb)</th></tr>\n",
       "</thead>\n",
       "<tbody>\n",
       "\t<tr><th scope=row>Ncells</th><td>2136437</td><td>114.1</td><td>4109304</td><td>219.5</td><td>4109304</td><td>219.5</td></tr>\n",
       "\t<tr><th scope=row>Vcells</th><td>3228296</td><td> 24.7</td><td>8388608</td><td> 64.0</td><td>8156178</td><td> 62.3</td></tr>\n",
       "</tbody>\n",
       "</table>\n"
      ],
      "text/latex": [
       "A matrix: 2 × 6 of type dbl\n",
       "\\begin{tabular}{r|llllll}\n",
       "  & used & (Mb) & gc trigger & (Mb) & max used & (Mb)\\\\\n",
       "\\hline\n",
       "\tNcells & 2136437 & 114.1 & 4109304 & 219.5 & 4109304 & 219.5\\\\\n",
       "\tVcells & 3228296 &  24.7 & 8388608 &  64.0 & 8156178 &  62.3\\\\\n",
       "\\end{tabular}\n"
      ],
      "text/markdown": [
       "\n",
       "A matrix: 2 × 6 of type dbl\n",
       "\n",
       "| <!--/--> | used | (Mb) | gc trigger | (Mb) | max used | (Mb) |\n",
       "|---|---|---|---|---|---|---|\n",
       "| Ncells | 2136437 | 114.1 | 4109304 | 219.5 | 4109304 | 219.5 |\n",
       "| Vcells | 3228296 |  24.7 | 8388608 |  64.0 | 8156178 |  62.3 |\n",
       "\n"
      ],
      "text/plain": [
       "       used    (Mb)  gc trigger (Mb)  max used (Mb) \n",
       "Ncells 2136437 114.1 4109304    219.5 4109304  219.5\n",
       "Vcells 3228296  24.7 8388608     64.0 8156178   62.3"
      ]
     },
     "metadata": {},
     "output_type": "display_data"
    }
   ],
   "source": [
    "gc()"
   ]
  },
  {
   "cell_type": "code",
   "execution_count": 33,
   "id": "35a263b2-7493-4c6b-97a0-d64423d8eebf",
   "metadata": {
    "execution": {
     "iopub.execute_input": "2023-10-19T10:52:22.931175Z",
     "iopub.status.busy": "2023-10-19T10:52:22.928143Z",
     "iopub.status.idle": "2023-10-19T10:52:22.947548Z",
     "shell.execute_reply": "2023-10-19T10:52:22.946117Z"
    },
    "tags": []
   },
   "outputs": [
    {
     "data": {
      "text/html": [
       "'/home/jovyan/agwise-datasourcing/dataops/datasourcing/Data/useCase_Malawi_Solidaridad/Soybean/result'"
      ],
      "text/latex": [
       "'/home/jovyan/agwise-datasourcing/dataops/datasourcing/Data/useCase\\_Malawi\\_Solidaridad/Soybean/result'"
      ],
      "text/markdown": [
       "'/home/jovyan/agwise-datasourcing/dataops/datasourcing/Data/useCase_Malawi_Solidaridad/Soybean/result'"
      ],
      "text/plain": [
       "[1] \"/home/jovyan/agwise-datasourcing/dataops/datasourcing/Data/useCase_Malawi_Solidaridad/Soybean/result\""
      ]
     },
     "metadata": {},
     "output_type": "display_data"
    }
   ],
   "source": [
    "getwd()"
   ]
  },
  {
   "cell_type": "code",
   "execution_count": 34,
   "id": "8737f6c4-d982-4318-9617-b68ae5a10ef2",
   "metadata": {
    "execution": {
     "iopub.execute_input": "2023-10-19T10:52:31.665378Z",
     "iopub.status.busy": "2023-10-19T10:52:31.662358Z",
     "iopub.status.idle": "2023-10-19T10:52:31.681797Z",
     "shell.execute_reply": "2023-10-19T10:52:31.680272Z"
    },
    "tags": []
   },
   "outputs": [
    {
     "data": {
      "text/html": [],
      "text/latex": [],
      "text/markdown": [],
      "text/plain": [
       "character(0)"
      ]
     },
     "metadata": {},
     "output_type": "display_data"
    }
   ],
   "source": [
    "ls()"
   ]
  },
  {
   "cell_type": "code",
   "execution_count": 38,
   "id": "3f515cb2-d6ec-4f76-abe9-28fe5f49688e",
   "metadata": {
    "execution": {
     "iopub.execute_input": "2023-10-19T10:57:19.028484Z",
     "iopub.status.busy": "2023-10-19T10:57:19.024945Z",
     "iopub.status.idle": "2023-10-19T10:57:19.041763Z",
     "shell.execute_reply": "2023-10-19T10:57:19.040334Z"
    }
   },
   "outputs": [],
   "source": [
    "setwd(\"~/EiA_DA_AW_V1\")"
   ]
  },
  {
   "cell_type": "code",
   "execution_count": 40,
   "id": "6ad7fe1c-d792-4dc2-97ab-d68dea660a95",
   "metadata": {
    "execution": {
     "iopub.execute_input": "2023-10-19T10:57:30.682277Z",
     "iopub.status.busy": "2023-10-19T10:57:30.678847Z",
     "iopub.status.idle": "2023-10-19T10:57:30.699383Z",
     "shell.execute_reply": "2023-10-19T10:57:30.697832Z"
    },
    "tags": []
   },
   "outputs": [
    {
     "data": {
      "text/html": [
       "'/home/jovyan/EiA_DA_AW_V1'"
      ],
      "text/latex": [
       "'/home/jovyan/EiA\\_DA\\_AW\\_V1'"
      ],
      "text/markdown": [
       "'/home/jovyan/EiA_DA_AW_V1'"
      ],
      "text/plain": [
       "[1] \"/home/jovyan/EiA_DA_AW_V1\""
      ]
     },
     "metadata": {},
     "output_type": "display_data"
    }
   ],
   "source": [
    "getwd()"
   ]
  },
  {
   "cell_type": "code",
   "execution_count": 41,
   "id": "7952a5b6-eeb6-41fe-8035-385ec502dd78",
   "metadata": {
    "execution": {
     "iopub.execute_input": "2023-10-19T10:57:39.514142Z",
     "iopub.status.busy": "2023-10-19T10:57:39.511072Z",
     "iopub.status.idle": "2023-10-19T10:57:39.530906Z",
     "shell.execute_reply": "2023-10-19T10:57:39.529314Z"
    },
    "tags": []
   },
   "outputs": [
    {
     "data": {
      "text/html": [],
      "text/latex": [],
      "text/markdown": [],
      "text/plain": [
       "character(0)"
      ]
     },
     "metadata": {},
     "output_type": "display_data"
    }
   ],
   "source": [
    "ls()"
   ]
  },
  {
   "cell_type": "code",
   "execution_count": 42,
   "id": "c56d6f62-904b-42bb-9738-fb602a42a0f4",
   "metadata": {
    "execution": {
     "iopub.execute_input": "2023-10-19T10:57:59.905212Z",
     "iopub.status.busy": "2023-10-19T10:57:59.902170Z",
     "iopub.status.idle": "2023-10-19T10:57:59.919381Z",
     "shell.execute_reply": "2023-10-19T10:57:59.918033Z"
    },
    "tags": []
   },
   "outputs": [],
   "source": [
    "require(R.cache)"
   ]
  },
  {
   "cell_type": "code",
   "execution_count": 43,
   "id": "c353b8a0-b106-492c-8900-005f5a3d26f0",
   "metadata": {
    "execution": {
     "iopub.execute_input": "2023-10-19T10:58:20.551882Z",
     "iopub.status.busy": "2023-10-19T10:58:20.548818Z",
     "iopub.status.idle": "2023-10-19T10:58:20.567444Z",
     "shell.execute_reply": "2023-10-19T10:58:20.565775Z"
    },
    "tags": []
   },
   "outputs": [
    {
     "ename": "ERROR",
     "evalue": "Error in h(simpleError(msg, call)): error in evaluating the argument 'x' in selecting a method for function 'head': object 'seasonAna' not found\n",
     "output_type": "error",
     "traceback": [
      "Error in h(simpleError(msg, call)): error in evaluating the argument 'x' in selecting a method for function 'head': object 'seasonAna' not found\nTraceback:\n",
      "1. head(seasonAna)",
      "2. .handleSimpleError(function (cond) \n . .Internal(C_tryCatchHelper(addr, 1L, cond)), \"object 'seasonAna' not found\", \n .     base::quote(head(seasonAna)))",
      "3. h(simpleError(msg, call))"
     ]
    }
   ],
   "source": [
    "head(seasonAna)"
   ]
  },
  {
   "cell_type": "code",
   "execution_count": 44,
   "id": "38778a5f-b04a-45cf-9582-029811f6a626",
   "metadata": {
    "execution": {
     "iopub.execute_input": "2023-10-19T10:59:48.634423Z",
     "iopub.status.busy": "2023-10-19T10:59:48.631347Z",
     "iopub.status.idle": "2023-10-19T10:59:49.596864Z",
     "shell.execute_reply": "2023-10-19T10:59:49.594771Z"
    },
    "tags": []
   },
   "outputs": [],
   "source": [
    "source(\"~/agwise-datasourcing/dataops/datasourcing/Scripts/generic/get_geoSpatialData.R\")"
   ]
  },
  {
   "cell_type": "code",
   "execution_count": 45,
   "id": "83d7a46f-b9a7-45d6-8670-43c32c4efaad",
   "metadata": {
    "execution": {
     "iopub.execute_input": "2023-10-19T10:59:57.229045Z",
     "iopub.status.busy": "2023-10-19T10:59:57.225929Z",
     "iopub.status.idle": "2023-10-19T10:59:57.477533Z",
     "shell.execute_reply": "2023-10-19T10:59:57.473502Z"
    },
    "tags": []
   },
   "outputs": [
    {
     "ename": "ERROR",
     "evalue": "Error in h(simpleError(msg, call)): error in evaluating the argument 'file' in selecting a method for function 'readRDS': argument \"country\" is missing, with no default\n",
     "output_type": "error",
     "traceback": [
      "Error in h(simpleError(msg, call)): error in evaluating the argument 'file' in selecting a method for function 'readRDS': argument \"country\" is missing, with no default\nTraceback:\n",
      "1. get_weather_seasonality()",
      "2. readRDS(paste(\"~/agwise-datacuration/dataops/datacuration/Data/useCase_\", \n .     country, \"_\", useCaseName, \"/\", Crop, \"/result/compiled_fieldData.RDS\", \n .     sep = \"\"))",
      "3. paste(\"~/agwise-datacuration/dataops/datacuration/Data/useCase_\", \n .     country, \"_\", useCaseName, \"/\", Crop, \"/result/compiled_fieldData.RDS\", \n .     sep = \"\")",
      "4. .handleSimpleError(function (cond) \n . .Internal(C_tryCatchHelper(addr, 1L, cond)), \"argument \\\"country\\\" is missing, with no default\", \n .     base::quote(paste(\"~/agwise-datacuration/dataops/datacuration/Data/useCase_\", \n .         country, \"_\", useCaseName, \"/\", Crop, \"/result/compiled_fieldData.RDS\", \n .         sep = \"\")))",
      "5. h(simpleError(msg, call))"
     ]
    }
   ],
   "source": [
    "get_weather_seasonality()"
   ]
  },
  {
   "cell_type": "code",
   "execution_count": 46,
   "id": "806171bd-c2b0-483b-b4a8-41324d67ec98",
   "metadata": {
    "execution": {
     "iopub.execute_input": "2023-10-19T11:00:02.228727Z",
     "iopub.status.busy": "2023-10-19T11:00:02.225124Z",
     "iopub.status.idle": "2023-10-19T11:00:02.255831Z",
     "shell.execute_reply": "2023-10-19T11:00:02.254240Z"
    },
    "tags": []
   },
   "outputs": [
    {
     "data": {
      "text/html": [
       "<pre class=language-r><code>function (country, useCaseName, Crop, AOI = FALSE, Planting_month_date = NULL, \n",
       "<span style=white-space:pre-wrap>    Harvest_month_date = NULL, varName, plantingWindow = 1, jobs) </span>\n",
       "{\n",
       "<span style=white-space:pre-wrap>    if (AOI == TRUE) {</span>\n",
       "<span style=white-space:pre-wrap>        inputData &lt;- readRDS(paste(\"~/agwise-datacuration/dataops/datacuration/Data/useCase_\", </span>\n",
       "<span style=white-space:pre-wrap>            country, \"_\", useCaseName, \"/\", Crop, \"/result/AOI_GPS.RDS\", </span>\n",
       "<span style=white-space:pre-wrap>            sep = \"\"))</span>\n",
       "<span style=white-space:pre-wrap>    }</span>\n",
       "<span style=white-space:pre-wrap>    else {</span>\n",
       "<span style=white-space:pre-wrap>        inputData &lt;- readRDS(paste(\"~/agwise-datacuration/dataops/datacuration/Data/useCase_\", </span>\n",
       "<span style=white-space:pre-wrap>            country, \"_\", useCaseName, \"/\", Crop, \"/result/compiled_fieldData.RDS\", </span>\n",
       "<span style=white-space:pre-wrap>            sep = \"\"))</span>\n",
       "<span style=white-space:pre-wrap>    }</span>\n",
       "<span style=white-space:pre-wrap>    pathOut1 &lt;- paste(\"~/agwise-datasourcing/dataops/datasourcing/Data/useCase_\", </span>\n",
       "<span style=white-space:pre-wrap>        country, \"_\", useCaseName, \"/\", Crop, \"/result/\", sep = \"\")</span>\n",
       "<span style=white-space:pre-wrap>    if (!dir.exists(pathOut1)) {</span>\n",
       "<span style=white-space:pre-wrap>        dir.create(file.path(pathOut1), recursive = TRUE)</span>\n",
       "<span style=white-space:pre-wrap>    }</span>\n",
       "<span style=white-space:pre-wrap>    if (AOI == TRUE) {</span>\n",
       "<span style=white-space:pre-wrap>        if (is.null(Planting_month_date) | is.null(Harvest_month_date)) {</span>\n",
       "<span style=white-space:pre-wrap>            print(\"with AOI=TRUE, Planting_month_date, Harvest_month_date can not be null, please refer to the documentation and provide mm-dd for both parameters\")</span>\n",
       "<span style=white-space:pre-wrap>            return(NULL)</span>\n",
       "<span style=white-space:pre-wrap>        }</span>\n",
       "<span style=white-space:pre-wrap>        Planting_month &lt;- as.numeric(str_extract(Planting_month_date, </span>\n",
       "<span style=white-space:pre-wrap>            \"[^-]+\"))</span>\n",
       "<span style=white-space:pre-wrap>        Harvest_month &lt;- as.numeric(str_extract(Harvest_month_date, </span>\n",
       "<span style=white-space:pre-wrap>            \"[^-]+\"))</span>\n",
       "<span style=white-space:pre-wrap>        if (Planting_month &lt; Harvest_month) {</span>\n",
       "<span style=white-space:pre-wrap>            planting_harvest_sameYear &lt;- TRUE</span>\n",
       "<span style=white-space:pre-wrap>            py &lt;- 2000</span>\n",
       "<span style=white-space:pre-wrap>            hy &lt;- 2000</span>\n",
       "<span style=white-space:pre-wrap>        }</span>\n",
       "<span style=white-space:pre-wrap>        else {</span>\n",
       "<span style=white-space:pre-wrap>            planting_harvest_sameYear &lt;- FALSE</span>\n",
       "<span style=white-space:pre-wrap>            py &lt;- 2000</span>\n",
       "<span style=white-space:pre-wrap>            hy &lt;- 2001</span>\n",
       "<span style=white-space:pre-wrap>        }</span>\n",
       "<span style=white-space:pre-wrap>        Planting_month_date &lt;- as.Date(paste0(py, \"-\", Planting_month_date))</span>\n",
       "<span style=white-space:pre-wrap>        Planting_month_date &lt;- Planting_month_date %m-% months(1)</span>\n",
       "<span style=white-space:pre-wrap>        Harvest_month_date &lt;- as.Date(paste0(hy, \"-\", Harvest_month_date))</span>\n",
       "<span style=white-space:pre-wrap>        if (plantingWindow &gt; 1 &amp; plantingWindow &lt;= 5) {</span>\n",
       "<span style=white-space:pre-wrap>            Harvest_month_date &lt;- Harvest_month_date %m+% months(1)</span>\n",
       "<span style=white-space:pre-wrap>        }</span>\n",
       "<span style=white-space:pre-wrap>        else if (plantingWindow &gt; 5 &amp; plantingWindow &lt;= 8) {</span>\n",
       "<span style=white-space:pre-wrap>            Harvest_month_date &lt;- Harvest_month_date %m+% months(2)</span>\n",
       "<span style=white-space:pre-wrap>        }</span>\n",
       "<span style=white-space:pre-wrap>        else if (plantingWindow &gt; 8 &amp; plantingWindow &lt;= 12) {</span>\n",
       "<span style=white-space:pre-wrap>            Harvest_month_date &lt;- Harvest_month_date %m+% months(3)</span>\n",
       "<span style=white-space:pre-wrap>        }</span>\n",
       "<span style=white-space:pre-wrap>    }</span>\n",
       "<span style=white-space:pre-wrap>    if (varName == \"Rainfall\") {</span>\n",
       "<span style=white-space:pre-wrap>        listRaster &lt;- list.files(path = \"/home/jovyan/agwise-datasourcing/dataops/datasourcing/Data/Global_GeoData/Landing/Rainfall/chirps\", </span>\n",
       "<span style=white-space:pre-wrap>            pattern = \".nc$\", full.names = TRUE)</span>\n",
       "<span style=white-space:pre-wrap>    }</span>\n",
       "<span style=white-space:pre-wrap>    else if (varName == \"temperatureMax\") {</span>\n",
       "<span style=white-space:pre-wrap>        listRaster &lt;- list.files(path = \"/home/jovyan/agwise-datasourcing/dataops/datasourcing/Data/Global_GeoData/Landing/TemperatureMax/AgEra\", </span>\n",
       "<span style=white-space:pre-wrap>            pattern = \".nc$\", full.names = TRUE)</span>\n",
       "<span style=white-space:pre-wrap>    }</span>\n",
       "<span style=white-space:pre-wrap>    else if (varName == \"temperatureMin\") {</span>\n",
       "<span style=white-space:pre-wrap>        listRaster &lt;- list.files(path = \"/home/jovyan/agwise-datasourcing/dataops/datasourcing/Data/Global_GeoData/Landing/TemperatureMin/AgEra\", </span>\n",
       "<span style=white-space:pre-wrap>            pattern = \".nc$\", full.names = TRUE)</span>\n",
       "<span style=white-space:pre-wrap>    }</span>\n",
       "<span style=white-space:pre-wrap>    else if (varName == \"relativeHumidity\") {</span>\n",
       "<span style=white-space:pre-wrap>        listRaster &lt;- list.files(path = \"/home/jovyan/agwise-datasourcing/dataops/datasourcing/Data/Global_GeoData/Landing/RelativeHumidity/AgEra\", </span>\n",
       "<span style=white-space:pre-wrap>            pattern = \".nc$\", full.names = TRUE)</span>\n",
       "<span style=white-space:pre-wrap>    }</span>\n",
       "<span style=white-space:pre-wrap>    else if (varName == \"solarRadiation\") {</span>\n",
       "<span style=white-space:pre-wrap>        listRaster &lt;- list.files(path = \"/home/jovyan/agwise-datasourcing/dataops/datasourcing/Data/Global_GeoData/Landing/SolarRadiation/AgEra\", </span>\n",
       "<span style=white-space:pre-wrap>            pattern = \".nc$\", full.names = TRUE)</span>\n",
       "<span style=white-space:pre-wrap>    }</span>\n",
       "<span style=white-space:pre-wrap>    else if (varName == \"windSpeed\") {</span>\n",
       "<span style=white-space:pre-wrap>        listRaster &lt;- list.files(path = \"/home/jovyan/agwise-datasourcing/dataops/datasourcing/Data/Global_GeoData/Landing/WindSpeed/AgEra\", </span>\n",
       "<span style=white-space:pre-wrap>            pattern = \".nc$\", full.names = TRUE)</span>\n",
       "<span style=white-space:pre-wrap>    }</span>\n",
       "<span style=white-space:pre-wrap>    if (AOI == TRUE &amp; varName == \"Rainfall\") {</span>\n",
       "<span style=white-space:pre-wrap>        listRaster &lt;- listRaster[10:42]</span>\n",
       "<span style=white-space:pre-wrap>    }</span>\n",
       "<span style=white-space:pre-wrap>    else if (AOI == TRUE) {</span>\n",
       "<span style=white-space:pre-wrap>        listRaster &lt;- listRaster[12:44]</span>\n",
       "<span style=white-space:pre-wrap>    }</span>\n",
       "<span style=white-space:pre-wrap>    if (AOI == TRUE) {</span>\n",
       "<span style=white-space:pre-wrap>        countryCoord &lt;- unique(inputData[, c(\"lon\", \"lat\")])</span>\n",
       "<span style=white-space:pre-wrap>        countryCoord &lt;- countryCoord[complete.cases(countryCoord), </span>\n",
       "<span style=white-space:pre-wrap>            ]</span>\n",
       "<span style=white-space:pre-wrap>        countryCoord$startingDate &lt;- Planting_month_date</span>\n",
       "<span style=white-space:pre-wrap>        countryCoord$endDate &lt;- Harvest_month_date</span>\n",
       "<span style=white-space:pre-wrap>        countryCoord &lt;- countryCoord[complete.cases(countryCoord), </span>\n",
       "<span style=white-space:pre-wrap>            ]</span>\n",
       "<span style=white-space:pre-wrap>        names(countryCoord) &lt;- c(\"longitude\", \"latitude\", \"startingDate\", </span>\n",
       "<span style=white-space:pre-wrap>            \"endDate\")</span>\n",
       "<span style=white-space:pre-wrap>        countryCoord$ID &lt;- c(1:nrow(countryCoord))</span>\n",
       "<span style=white-space:pre-wrap>        ground &lt;- countryCoord[, c(\"longitude\", \"latitude\", \"startingDate\", </span>\n",
       "<span style=white-space:pre-wrap>            \"endDate\", \"ID\")]</span>\n",
       "<span style=white-space:pre-wrap>    }</span>\n",
       "<span style=white-space:pre-wrap>    else {</span>\n",
       "<span style=white-space:pre-wrap>        inputData &lt;- unique(inputData[, c(\"lon\", \"lat\", \"plantingDate\", </span>\n",
       "<span style=white-space:pre-wrap>            \"harvestDate\")])</span>\n",
       "<span style=white-space:pre-wrap>        inputData$plantingDate &lt;- as.Date(inputData$plantingDate)</span>\n",
       "<span style=white-space:pre-wrap>        inputData$harvestDate &lt;- as.Date(inputData$harvestDate)</span>\n",
       "<span style=white-space:pre-wrap>        inputData$plantingDate &lt;- inputData$plantingDate %m-% </span>\n",
       "<span style=white-space:pre-wrap>            months(1)</span>\n",
       "<span style=white-space:pre-wrap>        inputData &lt;- inputData[complete.cases(inputData), ]</span>\n",
       "<span style=white-space:pre-wrap>        inputData$ID &lt;- c(1:nrow(inputData))</span>\n",
       "<span style=white-space:pre-wrap>        names(inputData) &lt;- c(\"longitude\", \"latitude\", \"startingDate\", </span>\n",
       "<span style=white-space:pre-wrap>            \"endDate\", \"ID\")</span>\n",
       "<span style=white-space:pre-wrap>        ground &lt;- inputData</span>\n",
       "<span style=white-space:pre-wrap>    }</span>\n",
       "<span style=white-space:pre-wrap>    countryShp &lt;- geodata::gadm(country, level = 2, path = \".\")</span>\n",
       "<span style=white-space:pre-wrap>    dd2 &lt;- raster::extract(countryShp, ground[, c(\"longitude\", </span>\n",
       "<span style=white-space:pre-wrap>        \"latitude\")])[, c(\"NAME_1\", \"NAME_2\")]</span>\n",
       "<span style=white-space:pre-wrap>    ground$NAME_1 &lt;- dd2$NAME_1</span>\n",
       "<span style=white-space:pre-wrap>    ground$NAME_2 &lt;- dd2$NAME_2</span>\n",
       "<span style=white-space:pre-wrap>    if (AOI == TRUE) {</span>\n",
       "<span style=white-space:pre-wrap>        if (planting_harvest_sameYear == TRUE) {</span>\n",
       "<span style=white-space:pre-wrap>            cls &lt;- makeCluster(jobs)</span>\n",
       "<span style=white-space:pre-wrap>            doParallel::registerDoParallel(cls)</span>\n",
       "<span style=white-space:pre-wrap>            rf_result &lt;- foreach(i = 1:length(listRaster), .packages = c(\"terra\", </span>\n",
       "<span style=white-space:pre-wrap>                \"plyr\", \"stringr\", \"tidyr\")) %dopar% {</span>\n",
       "<span style=white-space:pre-wrap>                rasti &lt;- listRaster[i]</span>\n",
       "<span style=white-space:pre-wrap>                pl_j &lt;- as.POSIXlt(unique(ground$startingDate))$yday</span>\n",
       "<span style=white-space:pre-wrap>                hv_j &lt;- as.POSIXlt(unique(ground$endDate))$yday</span>\n",
       "<span style=white-space:pre-wrap>                PlHvD &lt;- terra::rast(rasti, lyrs = c(pl_j:hv_j))</span>\n",
       "<span style=white-space:pre-wrap>                xy &lt;- ground[, c(\"longitude\", \"latitude\")]</span>\n",
       "<span style=white-space:pre-wrap>                raini &lt;- terra::extract(PlHvD, xy, method = \"simple\", </span>\n",
       "<span style=white-space:pre-wrap>                  cells = FALSE)</span>\n",
       "<span style=white-space:pre-wrap>                raini &lt;- raini[, -1]</span>\n",
       "<span style=white-space:pre-wrap>                if (varName %in% c(\"temperatureMax\", \"temperatureMin\")) {</span>\n",
       "<span style=white-space:pre-wrap>                  raini &lt;- raini - 274</span>\n",
       "<span style=white-space:pre-wrap>                }</span>\n",
       "<span style=white-space:pre-wrap>                else if (varName == \"solarRadiation\") {</span>\n",
       "<span style=white-space:pre-wrap>                  raini &lt;- raini/1e+06</span>\n",
       "<span style=white-space:pre-wrap>                }</span>\n",
       "<span style=white-space:pre-wrap>                ground_adj &lt;- ground</span>\n",
       "<span style=white-space:pre-wrap>                lubridate::year(ground_adj$startingDate) &lt;- as.numeric(str_extract(rasti, </span>\n",
       "<span style=white-space:pre-wrap>                  \"[[:digit:]]+\"))</span>\n",
       "<span style=white-space:pre-wrap>                lubridate::year(ground_adj$endDate) &lt;- as.numeric(str_extract(rasti, </span>\n",
       "<span style=white-space:pre-wrap>                  \"[[:digit:]]+\"))</span>\n",
       "<span style=white-space:pre-wrap>                start &lt;- as.Date(unique(ground_adj$startingDate))</span>\n",
       "<span style=white-space:pre-wrap>                maxDaysDiff &lt;- abs(max(min(pl_j) - max(hv_j)))</span>\n",
       "<span style=white-space:pre-wrap>                end &lt;- start + as.difftime(maxDaysDiff, units = \"days\")</span>\n",
       "<span style=white-space:pre-wrap>                ddates &lt;- seq(from = start, to = end, by = 1)</span>\n",
       "<span style=white-space:pre-wrap>                ground_adj$startingDate &lt;- as.character(ground_adj$startingDate)</span>\n",
       "<span style=white-space:pre-wrap>                ground_adj$endDate &lt;- as.character(ground_adj$endDate)</span>\n",
       "<span style=white-space:pre-wrap>                ground2 &lt;- cbind(ground_adj, raini)</span>\n",
       "<span style=white-space:pre-wrap>                ground3 &lt;- gather(ground2, year, Rainfall, names(raini)[1]:names(raini)[length(raini)])</span>\n",
       "<span style=white-space:pre-wrap>                ground3$date &lt;- ddates</span>\n",
       "<span style=white-space:pre-wrap>                ground3$pl_year &lt;- as.numeric(str_extract(rast1, </span>\n",
       "<span style=white-space:pre-wrap>                  \"[[:digit:]]+\"))</span>\n",
       "<span style=white-space:pre-wrap>                ground3 &lt;- subset(ground3, select = -c(startingDate, </span>\n",
       "<span style=white-space:pre-wrap>                  endDate, ID, year, NAME_2))</span>\n",
       "<span style=white-space:pre-wrap>            }</span>\n",
       "<span style=white-space:pre-wrap>            data_points &lt;- dplyr::bind_rows(rf_result)</span>\n",
       "<span style=white-space:pre-wrap>            stopCluster(cls)</span>\n",
       "<span style=white-space:pre-wrap>        }</span>\n",
       "<span style=white-space:pre-wrap>        else {</span>\n",
       "<span style=white-space:pre-wrap>            cls &lt;- makeCluster(jobs)</span>\n",
       "<span style=white-space:pre-wrap>            doParallel::registerDoParallel(cls)</span>\n",
       "<span style=white-space:pre-wrap>            rf_result2 &lt;- foreach(i = 1:(length(listRaster) - </span>\n",
       "<span style=white-space:pre-wrap>                1), .packages = c(\"terra\", \"plyr\", \"stringr\", </span>\n",
       "<span style=white-space:pre-wrap>                \"tidyr\")) %dopar% {</span>\n",
       "<span style=white-space:pre-wrap>                listRaster &lt;- listRaster[order(listRaster)]</span>\n",
       "<span style=white-space:pre-wrap>                rast1 &lt;- listRaster[i]</span>\n",
       "<span style=white-space:pre-wrap>                rast2 &lt;- listRaster[i + 1]</span>\n",
       "<span style=white-space:pre-wrap>                ground_adj &lt;- ground</span>\n",
       "<span style=white-space:pre-wrap>                lubridate::year(ground_adj$startingDate) &lt;- as.numeric(str_extract(rast1, </span>\n",
       "<span style=white-space:pre-wrap>                  \"[[:digit:]]+\"))</span>\n",
       "<span style=white-space:pre-wrap>                lubridate::year(ground_adj$endDate) &lt;- as.numeric(str_extract(rast2, </span>\n",
       "<span style=white-space:pre-wrap>                  \"[[:digit:]]+\"))</span>\n",
       "<span style=white-space:pre-wrap>                start &lt;- as.Date(unique(ground_adj$startingDate))</span>\n",
       "<span style=white-space:pre-wrap>                maxDaysDiff &lt;- as.numeric(max(ground_adj$endDate) - </span>\n",
       "<span style=white-space:pre-wrap>                  min(ground_adj$startingDate))</span>\n",
       "<span style=white-space:pre-wrap>                end &lt;- start + as.difftime(maxDaysDiff, units = \"days\")</span>\n",
       "<span style=white-space:pre-wrap>                ddates &lt;- seq(from = start, to = end, by = 1)</span>\n",
       "<span style=white-space:pre-wrap>                pl_j &lt;- as.POSIXlt(unique(ground_adj$startingDate))$yday</span>\n",
       "<span style=white-space:pre-wrap>                hv_j &lt;- as.POSIXlt(unique(ground_adj$endDate))$yday</span>\n",
       "<span style=white-space:pre-wrap>                rasti1 &lt;- terra::rast(rast1, lyrs = c(pl_j:terra::nlyr(terra::rast(rast1))))</span>\n",
       "<span style=white-space:pre-wrap>                rasti2 &lt;- terra::rast(rast2, lyrs = c(1:hv_j))</span>\n",
       "<span style=white-space:pre-wrap>                PlHvD &lt;- c(rasti1, rasti2)</span>\n",
       "<span style=white-space:pre-wrap>                xy &lt;- ground[, c(\"longitude\", \"latitude\")]</span>\n",
       "<span style=white-space:pre-wrap>                raini &lt;- terra::extract(PlHvD, xy, method = \"simple\", </span>\n",
       "<span style=white-space:pre-wrap>                  cells = FALSE)</span>\n",
       "<span style=white-space:pre-wrap>                raini &lt;- raini[, -1]</span>\n",
       "<span style=white-space:pre-wrap>                if (varName %in% c(\"temperatureMax\", \"temperatureMin\")) {</span>\n",
       "<span style=white-space:pre-wrap>                  raini &lt;- raini - 274</span>\n",
       "<span style=white-space:pre-wrap>                }</span>\n",
       "<span style=white-space:pre-wrap>                else if (varName == \"solarRadiation\") {</span>\n",
       "<span style=white-space:pre-wrap>                  raini &lt;- raini/1e+06</span>\n",
       "<span style=white-space:pre-wrap>                }</span>\n",
       "<span style=white-space:pre-wrap>                ground2 &lt;- cbind(ground_adj, raini)</span>\n",
       "<span style=white-space:pre-wrap>                ground3 &lt;- gather(ground2, year, Rainfall, names(raini)[1]:names(raini)[length(raini)])</span>\n",
       "<span style=white-space:pre-wrap>                ground3$date &lt;- ddates</span>\n",
       "<span style=white-space:pre-wrap>                ground3$pl_year &lt;- as.numeric(str_extract(rast1, </span>\n",
       "<span style=white-space:pre-wrap>                  \"[[:digit:]]+\"))</span>\n",
       "<span style=white-space:pre-wrap>                ground3 &lt;- subset(ground3, select = -c(startingDate, </span>\n",
       "<span style=white-space:pre-wrap>                  endDate, ID, year, NAME_2))</span>\n",
       "<span style=white-space:pre-wrap>            }</span>\n",
       "<span style=white-space:pre-wrap>            data_points &lt;- dplyr::bind_rows(rf_result2)</span>\n",
       "<span style=white-space:pre-wrap>            stopCluster(cls)</span>\n",
       "<span style=white-space:pre-wrap>        }</span>\n",
       "<span style=white-space:pre-wrap>    }</span>\n",
       "<span style=white-space:pre-wrap>    else {</span>\n",
       "<span style=white-space:pre-wrap>        ground$yearPi &lt;- as.numeric(format(as.POSIXlt(ground$startingDate), </span>\n",
       "<span style=white-space:pre-wrap>            \"%Y\"))</span>\n",
       "<span style=white-space:pre-wrap>        ground$yearHi &lt;- as.numeric(format(as.POSIXlt(ground$endDate), </span>\n",
       "<span style=white-space:pre-wrap>            \"%Y\"))</span>\n",
       "<span style=white-space:pre-wrap>        ground &lt;- droplevels(ground[ground$yearPi &gt;= 1981 &amp; ground$yearHi &gt;= </span>\n",
       "<span style=white-space:pre-wrap>            1981, ])</span>\n",
       "<span style=white-space:pre-wrap>        ground$pl_j &lt;- as.POSIXlt(ground$startingDate)$yday</span>\n",
       "<span style=white-space:pre-wrap>        ground$hv_j &lt;- as.POSIXlt(ground$endDate)$yday</span>\n",
       "<span style=white-space:pre-wrap>        start &lt;- as.Date(min(ground$startingDate))</span>\n",
       "<span style=white-space:pre-wrap>        maxDaysDiff &lt;- abs(max(min(ground$pl_j) - max(ground$hv_j)))</span>\n",
       "<span style=white-space:pre-wrap>        end &lt;- maxDaysDiff + as.Date(max(ground$endDate))</span>\n",
       "<span style=white-space:pre-wrap>        ddates &lt;- seq(from = start, to = end, by = 1)</span>\n",
       "<span style=white-space:pre-wrap>        rf_names &lt;- c(paste0(varName, \"_\", ddates))</span>\n",
       "<span style=white-space:pre-wrap>        rf_names2 &lt;- as.data.frame(matrix(nrow = length(rf_names), </span>\n",
       "<span style=white-space:pre-wrap>            ncol = 1))</span>\n",
       "<span style=white-space:pre-wrap>        colnames(rf_names2) &lt;- \"dataDate\"</span>\n",
       "<span style=white-space:pre-wrap>        rf_names2[, 1] &lt;- rf_names</span>\n",
       "<span style=white-space:pre-wrap>        rf_names2$ID &lt;- c(1:nrow(rf_names2))</span>\n",
       "<span style=white-space:pre-wrap>        data_points &lt;- NULL</span>\n",
       "<span style=white-space:pre-wrap>        for (i in 1:nrow(ground)) {</span>\n",
       "<span style=white-space:pre-wrap>            print(i)</span>\n",
       "<span style=white-space:pre-wrap>            groundi &lt;- ground[i, c(\"longitude\", \"latitude\", \"startingDate\", </span>\n",
       "<span style=white-space:pre-wrap>                \"endDate\", \"ID\", \"NAME_1\", \"NAME_2\", \"yearPi\", </span>\n",
       "<span style=white-space:pre-wrap>                \"yearHi\", \"pl_j\", \"hv_j\")]</span>\n",
       "<span style=white-space:pre-wrap>            yearPi &lt;- as.numeric(groundi$yearPi)</span>\n",
       "<span style=white-space:pre-wrap>            yearHi &lt;- as.numeric(groundi$yearHi)</span>\n",
       "<span style=white-space:pre-wrap>            pl_j &lt;- groundi$pl_j</span>\n",
       "<span style=white-space:pre-wrap>            hv_j &lt;- groundi$hv_j</span>\n",
       "<span style=white-space:pre-wrap>            if (yearPi == yearHi) {</span>\n",
       "<span style=white-space:pre-wrap>                rasti &lt;- listRaster[which(grepl(yearPi, listRaster, </span>\n",
       "<span style=white-space:pre-wrap>                  fixed = TRUE) == T)]</span>\n",
       "<span style=white-space:pre-wrap>                rasti &lt;- terra::rast(rasti, lyrs = c(pl_j:hv_j))</span>\n",
       "<span style=white-space:pre-wrap>            }</span>\n",
       "<span style=white-space:pre-wrap>            if (yearPi &lt; yearHi) {</span>\n",
       "<span style=white-space:pre-wrap>                rasti1 &lt;- listRaster[which(grepl(yearPi, listRaster, </span>\n",
       "<span style=white-space:pre-wrap>                  fixed = TRUE) == T)]</span>\n",
       "<span style=white-space:pre-wrap>                rasti1 &lt;- terra::rast(rasti1, lyrs = c(pl_j:terra::nlyr(terra::rast(rasti1))))</span>\n",
       "<span style=white-space:pre-wrap>                rasti2 &lt;- listRaster[which(grepl(yearHi, listRaster, </span>\n",
       "<span style=white-space:pre-wrap>                  fixed = TRUE) == T)]</span>\n",
       "<span style=white-space:pre-wrap>                rasti2 &lt;- terra::rast(rasti2, lyrs = c(1:hv_j))</span>\n",
       "<span style=white-space:pre-wrap>                rasti &lt;- c(rasti1, rasti2)</span>\n",
       "<span style=white-space:pre-wrap>            }</span>\n",
       "<span style=white-space:pre-wrap>            xy &lt;- groundi[, c(\"longitude\", \"latitude\")]</span>\n",
       "<span style=white-space:pre-wrap>            xy &lt;- xy %&gt;% mutate_if(is.character, as.numeric)</span>\n",
       "<span style=white-space:pre-wrap>            raini &lt;- terra::extract(rasti, xy, method = \"simple\", </span>\n",
       "<span style=white-space:pre-wrap>                cells = FALSE)</span>\n",
       "<span style=white-space:pre-wrap>            raini &lt;- raini[, -1]</span>\n",
       "<span style=white-space:pre-wrap>            if (varName %in% c(\"temperatureMax\", \"temperatureMin\")) {</span>\n",
       "<span style=white-space:pre-wrap>                raini &lt;- raini - 274</span>\n",
       "<span style=white-space:pre-wrap>            }</span>\n",
       "<span style=white-space:pre-wrap>            else if (varName == \"solarRadiation\") {</span>\n",
       "<span style=white-space:pre-wrap>                raini &lt;- raini/1e+06</span>\n",
       "<span style=white-space:pre-wrap>            }</span>\n",
       "<span style=white-space:pre-wrap>            start &lt;- as.Date(unique(groundi$startingDate))</span>\n",
       "<span style=white-space:pre-wrap>            maxDaysDiff &lt;- as.numeric(groundi$endDate - groundi$startingDate)</span>\n",
       "<span style=white-space:pre-wrap>            end &lt;- start + as.difftime(maxDaysDiff, units = \"days\")</span>\n",
       "<span style=white-space:pre-wrap>            ddates &lt;- seq(from = start, to = end, by = 1)</span>\n",
       "<span style=white-space:pre-wrap>            names(raini) &lt;- paste(varName, ddates, sep = \"_\")</span>\n",
       "<span style=white-space:pre-wrap>            raini &lt;- as.data.frame(t(raini))</span>\n",
       "<span style=white-space:pre-wrap>            raini$dataDate &lt;- rownames(raini)</span>\n",
       "<span style=white-space:pre-wrap>            rownames(raini) &lt;- NULL</span>\n",
       "<span style=white-space:pre-wrap>            raini &lt;- merge(raini, rf_names2, by = \"dataDate\", </span>\n",
       "<span style=white-space:pre-wrap>                all.y = TRUE)</span>\n",
       "<span style=white-space:pre-wrap>            raini &lt;- raini[order(raini$ID), ]</span>\n",
       "<span style=white-space:pre-wrap>            rownames(raini) &lt;- raini$dataDate</span>\n",
       "<span style=white-space:pre-wrap>            raini &lt;- raini %&gt;% dplyr::select(-c(ID, dataDate))</span>\n",
       "<span style=white-space:pre-wrap>            raini2 &lt;- as.data.frame(t(raini))</span>\n",
       "<span style=white-space:pre-wrap>            rownames(raini2) &lt;- NULL</span>\n",
       "<span style=white-space:pre-wrap>            raini2 &lt;- cbind(groundi, raini2)</span>\n",
       "<span style=white-space:pre-wrap>            data_points &lt;- rbind(data_points, raini2)</span>\n",
       "<span style=white-space:pre-wrap>        }</span>\n",
       "<span style=white-space:pre-wrap>    }</span>\n",
       "<span style=white-space:pre-wrap>    data_points &lt;- data_points %&gt;% select_if(~sum(!is.na(.)) &gt; </span>\n",
       "<span style=white-space:pre-wrap>        0)</span>\n",
       "<span style=white-space:pre-wrap>    return(data_points)</span>\n",
       "}</code></pre>"
      ],
      "text/latex": [
       "\\begin{minted}{r}\n",
       "function (country, useCaseName, Crop, AOI = FALSE, Planting\\_month\\_date = NULL, \n",
       "    Harvest\\_month\\_date = NULL, varName, plantingWindow = 1, jobs) \n",
       "\\{\n",
       "    if (AOI == TRUE) \\{\n",
       "        inputData <- readRDS(paste(\"\\textasciitilde{}/agwise-datacuration/dataops/datacuration/Data/useCase\\_\", \n",
       "            country, \"\\_\", useCaseName, \"/\", Crop, \"/result/AOI\\_GPS.RDS\", \n",
       "            sep = \"\"))\n",
       "    \\}\n",
       "    else \\{\n",
       "        inputData <- readRDS(paste(\"\\textasciitilde{}/agwise-datacuration/dataops/datacuration/Data/useCase\\_\", \n",
       "            country, \"\\_\", useCaseName, \"/\", Crop, \"/result/compiled\\_fieldData.RDS\", \n",
       "            sep = \"\"))\n",
       "    \\}\n",
       "    pathOut1 <- paste(\"\\textasciitilde{}/agwise-datasourcing/dataops/datasourcing/Data/useCase\\_\", \n",
       "        country, \"\\_\", useCaseName, \"/\", Crop, \"/result/\", sep = \"\")\n",
       "    if (!dir.exists(pathOut1)) \\{\n",
       "        dir.create(file.path(pathOut1), recursive = TRUE)\n",
       "    \\}\n",
       "    if (AOI == TRUE) \\{\n",
       "        if (is.null(Planting\\_month\\_date) \\textbar{} is.null(Harvest\\_month\\_date)) \\{\n",
       "            print(\"with AOI=TRUE, Planting\\_month\\_date, Harvest\\_month\\_date can not be null, please refer to the documentation and provide mm-dd for both parameters\")\n",
       "            return(NULL)\n",
       "        \\}\n",
       "        Planting\\_month <- as.numeric(str\\_extract(Planting\\_month\\_date, \n",
       "            \"{[}\\textasciicircum{}-{]}+\"))\n",
       "        Harvest\\_month <- as.numeric(str\\_extract(Harvest\\_month\\_date, \n",
       "            \"{[}\\textasciicircum{}-{]}+\"))\n",
       "        if (Planting\\_month < Harvest\\_month) \\{\n",
       "            planting\\_harvest\\_sameYear <- TRUE\n",
       "            py <- 2000\n",
       "            hy <- 2000\n",
       "        \\}\n",
       "        else \\{\n",
       "            planting\\_harvest\\_sameYear <- FALSE\n",
       "            py <- 2000\n",
       "            hy <- 2001\n",
       "        \\}\n",
       "        Planting\\_month\\_date <- as.Date(paste0(py, \"-\", Planting\\_month\\_date))\n",
       "        Planting\\_month\\_date <- Planting\\_month\\_date \\%m-\\% months(1)\n",
       "        Harvest\\_month\\_date <- as.Date(paste0(hy, \"-\", Harvest\\_month\\_date))\n",
       "        if (plantingWindow > 1 \\& plantingWindow <= 5) \\{\n",
       "            Harvest\\_month\\_date <- Harvest\\_month\\_date \\%m+\\% months(1)\n",
       "        \\}\n",
       "        else if (plantingWindow > 5 \\& plantingWindow <= 8) \\{\n",
       "            Harvest\\_month\\_date <- Harvest\\_month\\_date \\%m+\\% months(2)\n",
       "        \\}\n",
       "        else if (plantingWindow > 8 \\& plantingWindow <= 12) \\{\n",
       "            Harvest\\_month\\_date <- Harvest\\_month\\_date \\%m+\\% months(3)\n",
       "        \\}\n",
       "    \\}\n",
       "    if (varName == \"Rainfall\") \\{\n",
       "        listRaster <- list.files(path = \"/home/jovyan/agwise-datasourcing/dataops/datasourcing/Data/Global\\_GeoData/Landing/Rainfall/chirps\", \n",
       "            pattern = \".nc\\$\", full.names = TRUE)\n",
       "    \\}\n",
       "    else if (varName == \"temperatureMax\") \\{\n",
       "        listRaster <- list.files(path = \"/home/jovyan/agwise-datasourcing/dataops/datasourcing/Data/Global\\_GeoData/Landing/TemperatureMax/AgEra\", \n",
       "            pattern = \".nc\\$\", full.names = TRUE)\n",
       "    \\}\n",
       "    else if (varName == \"temperatureMin\") \\{\n",
       "        listRaster <- list.files(path = \"/home/jovyan/agwise-datasourcing/dataops/datasourcing/Data/Global\\_GeoData/Landing/TemperatureMin/AgEra\", \n",
       "            pattern = \".nc\\$\", full.names = TRUE)\n",
       "    \\}\n",
       "    else if (varName == \"relativeHumidity\") \\{\n",
       "        listRaster <- list.files(path = \"/home/jovyan/agwise-datasourcing/dataops/datasourcing/Data/Global\\_GeoData/Landing/RelativeHumidity/AgEra\", \n",
       "            pattern = \".nc\\$\", full.names = TRUE)\n",
       "    \\}\n",
       "    else if (varName == \"solarRadiation\") \\{\n",
       "        listRaster <- list.files(path = \"/home/jovyan/agwise-datasourcing/dataops/datasourcing/Data/Global\\_GeoData/Landing/SolarRadiation/AgEra\", \n",
       "            pattern = \".nc\\$\", full.names = TRUE)\n",
       "    \\}\n",
       "    else if (varName == \"windSpeed\") \\{\n",
       "        listRaster <- list.files(path = \"/home/jovyan/agwise-datasourcing/dataops/datasourcing/Data/Global\\_GeoData/Landing/WindSpeed/AgEra\", \n",
       "            pattern = \".nc\\$\", full.names = TRUE)\n",
       "    \\}\n",
       "    if (AOI == TRUE \\& varName == \"Rainfall\") \\{\n",
       "        listRaster <- listRaster{[}10:42{]}\n",
       "    \\}\n",
       "    else if (AOI == TRUE) \\{\n",
       "        listRaster <- listRaster{[}12:44{]}\n",
       "    \\}\n",
       "    if (AOI == TRUE) \\{\n",
       "        countryCoord <- unique(inputData{[}, c(\"lon\", \"lat\"){]})\n",
       "        countryCoord <- countryCoord{[}complete.cases(countryCoord), \n",
       "            {]}\n",
       "        countryCoord\\$startingDate <- Planting\\_month\\_date\n",
       "        countryCoord\\$endDate <- Harvest\\_month\\_date\n",
       "        countryCoord <- countryCoord{[}complete.cases(countryCoord), \n",
       "            {]}\n",
       "        names(countryCoord) <- c(\"longitude\", \"latitude\", \"startingDate\", \n",
       "            \"endDate\")\n",
       "        countryCoord\\$ID <- c(1:nrow(countryCoord))\n",
       "        ground <- countryCoord{[}, c(\"longitude\", \"latitude\", \"startingDate\", \n",
       "            \"endDate\", \"ID\"){]}\n",
       "    \\}\n",
       "    else \\{\n",
       "        inputData <- unique(inputData{[}, c(\"lon\", \"lat\", \"plantingDate\", \n",
       "            \"harvestDate\"){]})\n",
       "        inputData\\$plantingDate <- as.Date(inputData\\$plantingDate)\n",
       "        inputData\\$harvestDate <- as.Date(inputData\\$harvestDate)\n",
       "        inputData\\$plantingDate <- inputData\\$plantingDate \\%m-\\% \n",
       "            months(1)\n",
       "        inputData <- inputData{[}complete.cases(inputData), {]}\n",
       "        inputData\\$ID <- c(1:nrow(inputData))\n",
       "        names(inputData) <- c(\"longitude\", \"latitude\", \"startingDate\", \n",
       "            \"endDate\", \"ID\")\n",
       "        ground <- inputData\n",
       "    \\}\n",
       "    countryShp <- geodata::gadm(country, level = 2, path = \".\")\n",
       "    dd2 <- raster::extract(countryShp, ground{[}, c(\"longitude\", \n",
       "        \"latitude\"){]}){[}, c(\"NAME\\_1\", \"NAME\\_2\"){]}\n",
       "    ground\\$NAME\\_1 <- dd2\\$NAME\\_1\n",
       "    ground\\$NAME\\_2 <- dd2\\$NAME\\_2\n",
       "    if (AOI == TRUE) \\{\n",
       "        if (planting\\_harvest\\_sameYear == TRUE) \\{\n",
       "            cls <- makeCluster(jobs)\n",
       "            doParallel::registerDoParallel(cls)\n",
       "            rf\\_result <- foreach(i = 1:length(listRaster), .packages = c(\"terra\", \n",
       "                \"plyr\", \"stringr\", \"tidyr\")) \\%dopar\\% \\{\n",
       "                rasti <- listRaster{[}i{]}\n",
       "                pl\\_j <- as.POSIXlt(unique(ground\\$startingDate))\\$yday\n",
       "                hv\\_j <- as.POSIXlt(unique(ground\\$endDate))\\$yday\n",
       "                PlHvD <- terra::rast(rasti, lyrs = c(pl\\_j:hv\\_j))\n",
       "                xy <- ground{[}, c(\"longitude\", \"latitude\"){]}\n",
       "                raini <- terra::extract(PlHvD, xy, method = \"simple\", \n",
       "                  cells = FALSE)\n",
       "                raini <- raini{[}, -1{]}\n",
       "                if (varName \\%in\\% c(\"temperatureMax\", \"temperatureMin\")) \\{\n",
       "                  raini <- raini - 274\n",
       "                \\}\n",
       "                else if (varName == \"solarRadiation\") \\{\n",
       "                  raini <- raini/1e+06\n",
       "                \\}\n",
       "                ground\\_adj <- ground\n",
       "                lubridate::year(ground\\_adj\\$startingDate) <- as.numeric(str\\_extract(rasti, \n",
       "                  \"{[}{[}:digit:{]}{]}+\"))\n",
       "                lubridate::year(ground\\_adj\\$endDate) <- as.numeric(str\\_extract(rasti, \n",
       "                  \"{[}{[}:digit:{]}{]}+\"))\n",
       "                start <- as.Date(unique(ground\\_adj\\$startingDate))\n",
       "                maxDaysDiff <- abs(max(min(pl\\_j) - max(hv\\_j)))\n",
       "                end <- start + as.difftime(maxDaysDiff, units = \"days\")\n",
       "                ddates <- seq(from = start, to = end, by = 1)\n",
       "                ground\\_adj\\$startingDate <- as.character(ground\\_adj\\$startingDate)\n",
       "                ground\\_adj\\$endDate <- as.character(ground\\_adj\\$endDate)\n",
       "                ground2 <- cbind(ground\\_adj, raini)\n",
       "                ground3 <- gather(ground2, year, Rainfall, names(raini){[}1{]}:names(raini){[}length(raini){]})\n",
       "                ground3\\$date <- ddates\n",
       "                ground3\\$pl\\_year <- as.numeric(str\\_extract(rast1, \n",
       "                  \"{[}{[}:digit:{]}{]}+\"))\n",
       "                ground3 <- subset(ground3, select = -c(startingDate, \n",
       "                  endDate, ID, year, NAME\\_2))\n",
       "            \\}\n",
       "            data\\_points <- dplyr::bind\\_rows(rf\\_result)\n",
       "            stopCluster(cls)\n",
       "        \\}\n",
       "        else \\{\n",
       "            cls <- makeCluster(jobs)\n",
       "            doParallel::registerDoParallel(cls)\n",
       "            rf\\_result2 <- foreach(i = 1:(length(listRaster) - \n",
       "                1), .packages = c(\"terra\", \"plyr\", \"stringr\", \n",
       "                \"tidyr\")) \\%dopar\\% \\{\n",
       "                listRaster <- listRaster{[}order(listRaster){]}\n",
       "                rast1 <- listRaster{[}i{]}\n",
       "                rast2 <- listRaster{[}i + 1{]}\n",
       "                ground\\_adj <- ground\n",
       "                lubridate::year(ground\\_adj\\$startingDate) <- as.numeric(str\\_extract(rast1, \n",
       "                  \"{[}{[}:digit:{]}{]}+\"))\n",
       "                lubridate::year(ground\\_adj\\$endDate) <- as.numeric(str\\_extract(rast2, \n",
       "                  \"{[}{[}:digit:{]}{]}+\"))\n",
       "                start <- as.Date(unique(ground\\_adj\\$startingDate))\n",
       "                maxDaysDiff <- as.numeric(max(ground\\_adj\\$endDate) - \n",
       "                  min(ground\\_adj\\$startingDate))\n",
       "                end <- start + as.difftime(maxDaysDiff, units = \"days\")\n",
       "                ddates <- seq(from = start, to = end, by = 1)\n",
       "                pl\\_j <- as.POSIXlt(unique(ground\\_adj\\$startingDate))\\$yday\n",
       "                hv\\_j <- as.POSIXlt(unique(ground\\_adj\\$endDate))\\$yday\n",
       "                rasti1 <- terra::rast(rast1, lyrs = c(pl\\_j:terra::nlyr(terra::rast(rast1))))\n",
       "                rasti2 <- terra::rast(rast2, lyrs = c(1:hv\\_j))\n",
       "                PlHvD <- c(rasti1, rasti2)\n",
       "                xy <- ground{[}, c(\"longitude\", \"latitude\"){]}\n",
       "                raini <- terra::extract(PlHvD, xy, method = \"simple\", \n",
       "                  cells = FALSE)\n",
       "                raini <- raini{[}, -1{]}\n",
       "                if (varName \\%in\\% c(\"temperatureMax\", \"temperatureMin\")) \\{\n",
       "                  raini <- raini - 274\n",
       "                \\}\n",
       "                else if (varName == \"solarRadiation\") \\{\n",
       "                  raini <- raini/1e+06\n",
       "                \\}\n",
       "                ground2 <- cbind(ground\\_adj, raini)\n",
       "                ground3 <- gather(ground2, year, Rainfall, names(raini){[}1{]}:names(raini){[}length(raini){]})\n",
       "                ground3\\$date <- ddates\n",
       "                ground3\\$pl\\_year <- as.numeric(str\\_extract(rast1, \n",
       "                  \"{[}{[}:digit:{]}{]}+\"))\n",
       "                ground3 <- subset(ground3, select = -c(startingDate, \n",
       "                  endDate, ID, year, NAME\\_2))\n",
       "            \\}\n",
       "            data\\_points <- dplyr::bind\\_rows(rf\\_result2)\n",
       "            stopCluster(cls)\n",
       "        \\}\n",
       "    \\}\n",
       "    else \\{\n",
       "        ground\\$yearPi <- as.numeric(format(as.POSIXlt(ground\\$startingDate), \n",
       "            \"\\%Y\"))\n",
       "        ground\\$yearHi <- as.numeric(format(as.POSIXlt(ground\\$endDate), \n",
       "            \"\\%Y\"))\n",
       "        ground <- droplevels(ground{[}ground\\$yearPi >= 1981 \\& ground\\$yearHi >= \n",
       "            1981, {]})\n",
       "        ground\\$pl\\_j <- as.POSIXlt(ground\\$startingDate)\\$yday\n",
       "        ground\\$hv\\_j <- as.POSIXlt(ground\\$endDate)\\$yday\n",
       "        start <- as.Date(min(ground\\$startingDate))\n",
       "        maxDaysDiff <- abs(max(min(ground\\$pl\\_j) - max(ground\\$hv\\_j)))\n",
       "        end <- maxDaysDiff + as.Date(max(ground\\$endDate))\n",
       "        ddates <- seq(from = start, to = end, by = 1)\n",
       "        rf\\_names <- c(paste0(varName, \"\\_\", ddates))\n",
       "        rf\\_names2 <- as.data.frame(matrix(nrow = length(rf\\_names), \n",
       "            ncol = 1))\n",
       "        colnames(rf\\_names2) <- \"dataDate\"\n",
       "        rf\\_names2{[}, 1{]} <- rf\\_names\n",
       "        rf\\_names2\\$ID <- c(1:nrow(rf\\_names2))\n",
       "        data\\_points <- NULL\n",
       "        for (i in 1:nrow(ground)) \\{\n",
       "            print(i)\n",
       "            groundi <- ground{[}i, c(\"longitude\", \"latitude\", \"startingDate\", \n",
       "                \"endDate\", \"ID\", \"NAME\\_1\", \"NAME\\_2\", \"yearPi\", \n",
       "                \"yearHi\", \"pl\\_j\", \"hv\\_j\"){]}\n",
       "            yearPi <- as.numeric(groundi\\$yearPi)\n",
       "            yearHi <- as.numeric(groundi\\$yearHi)\n",
       "            pl\\_j <- groundi\\$pl\\_j\n",
       "            hv\\_j <- groundi\\$hv\\_j\n",
       "            if (yearPi == yearHi) \\{\n",
       "                rasti <- listRaster{[}which(grepl(yearPi, listRaster, \n",
       "                  fixed = TRUE) == T){]}\n",
       "                rasti <- terra::rast(rasti, lyrs = c(pl\\_j:hv\\_j))\n",
       "            \\}\n",
       "            if (yearPi < yearHi) \\{\n",
       "                rasti1 <- listRaster{[}which(grepl(yearPi, listRaster, \n",
       "                  fixed = TRUE) == T){]}\n",
       "                rasti1 <- terra::rast(rasti1, lyrs = c(pl\\_j:terra::nlyr(terra::rast(rasti1))))\n",
       "                rasti2 <- listRaster{[}which(grepl(yearHi, listRaster, \n",
       "                  fixed = TRUE) == T){]}\n",
       "                rasti2 <- terra::rast(rasti2, lyrs = c(1:hv\\_j))\n",
       "                rasti <- c(rasti1, rasti2)\n",
       "            \\}\n",
       "            xy <- groundi{[}, c(\"longitude\", \"latitude\"){]}\n",
       "            xy <- xy \\%>\\% mutate\\_if(is.character, as.numeric)\n",
       "            raini <- terra::extract(rasti, xy, method = \"simple\", \n",
       "                cells = FALSE)\n",
       "            raini <- raini{[}, -1{]}\n",
       "            if (varName \\%in\\% c(\"temperatureMax\", \"temperatureMin\")) \\{\n",
       "                raini <- raini - 274\n",
       "            \\}\n",
       "            else if (varName == \"solarRadiation\") \\{\n",
       "                raini <- raini/1e+06\n",
       "            \\}\n",
       "            start <- as.Date(unique(groundi\\$startingDate))\n",
       "            maxDaysDiff <- as.numeric(groundi\\$endDate - groundi\\$startingDate)\n",
       "            end <- start + as.difftime(maxDaysDiff, units = \"days\")\n",
       "            ddates <- seq(from = start, to = end, by = 1)\n",
       "            names(raini) <- paste(varName, ddates, sep = \"\\_\")\n",
       "            raini <- as.data.frame(t(raini))\n",
       "            raini\\$dataDate <- rownames(raini)\n",
       "            rownames(raini) <- NULL\n",
       "            raini <- merge(raini, rf\\_names2, by = \"dataDate\", \n",
       "                all.y = TRUE)\n",
       "            raini <- raini{[}order(raini\\$ID), {]}\n",
       "            rownames(raini) <- raini\\$dataDate\n",
       "            raini <- raini \\%>\\% dplyr::select(-c(ID, dataDate))\n",
       "            raini2 <- as.data.frame(t(raini))\n",
       "            rownames(raini2) <- NULL\n",
       "            raini2 <- cbind(groundi, raini2)\n",
       "            data\\_points <- rbind(data\\_points, raini2)\n",
       "        \\}\n",
       "    \\}\n",
       "    data\\_points <- data\\_points \\%>\\% select\\_if(\\textasciitilde{}sum(!is.na(.)) > \n",
       "        0)\n",
       "    return(data\\_points)\n",
       "\\}\n",
       "\\end{minted}"
      ],
      "text/markdown": [
       "```r\n",
       "function (country, useCaseName, Crop, AOI = FALSE, Planting_month_date = NULL, \n",
       "    Harvest_month_date = NULL, varName, plantingWindow = 1, jobs) \n",
       "{\n",
       "    if (AOI == TRUE) {\n",
       "        inputData <- readRDS(paste(\"~/agwise-datacuration/dataops/datacuration/Data/useCase_\", \n",
       "            country, \"_\", useCaseName, \"/\", Crop, \"/result/AOI_GPS.RDS\", \n",
       "            sep = \"\"))\n",
       "    }\n",
       "    else {\n",
       "        inputData <- readRDS(paste(\"~/agwise-datacuration/dataops/datacuration/Data/useCase_\", \n",
       "            country, \"_\", useCaseName, \"/\", Crop, \"/result/compiled_fieldData.RDS\", \n",
       "            sep = \"\"))\n",
       "    }\n",
       "    pathOut1 <- paste(\"~/agwise-datasourcing/dataops/datasourcing/Data/useCase_\", \n",
       "        country, \"_\", useCaseName, \"/\", Crop, \"/result/\", sep = \"\")\n",
       "    if (!dir.exists(pathOut1)) {\n",
       "        dir.create(file.path(pathOut1), recursive = TRUE)\n",
       "    }\n",
       "    if (AOI == TRUE) {\n",
       "        if (is.null(Planting_month_date) | is.null(Harvest_month_date)) {\n",
       "            print(\"with AOI=TRUE, Planting_month_date, Harvest_month_date can not be null, please refer to the documentation and provide mm-dd for both parameters\")\n",
       "            return(NULL)\n",
       "        }\n",
       "        Planting_month <- as.numeric(str_extract(Planting_month_date, \n",
       "            \"[^-]+\"))\n",
       "        Harvest_month <- as.numeric(str_extract(Harvest_month_date, \n",
       "            \"[^-]+\"))\n",
       "        if (Planting_month < Harvest_month) {\n",
       "            planting_harvest_sameYear <- TRUE\n",
       "            py <- 2000\n",
       "            hy <- 2000\n",
       "        }\n",
       "        else {\n",
       "            planting_harvest_sameYear <- FALSE\n",
       "            py <- 2000\n",
       "            hy <- 2001\n",
       "        }\n",
       "        Planting_month_date <- as.Date(paste0(py, \"-\", Planting_month_date))\n",
       "        Planting_month_date <- Planting_month_date %m-% months(1)\n",
       "        Harvest_month_date <- as.Date(paste0(hy, \"-\", Harvest_month_date))\n",
       "        if (plantingWindow > 1 & plantingWindow <= 5) {\n",
       "            Harvest_month_date <- Harvest_month_date %m+% months(1)\n",
       "        }\n",
       "        else if (plantingWindow > 5 & plantingWindow <= 8) {\n",
       "            Harvest_month_date <- Harvest_month_date %m+% months(2)\n",
       "        }\n",
       "        else if (plantingWindow > 8 & plantingWindow <= 12) {\n",
       "            Harvest_month_date <- Harvest_month_date %m+% months(3)\n",
       "        }\n",
       "    }\n",
       "    if (varName == \"Rainfall\") {\n",
       "        listRaster <- list.files(path = \"/home/jovyan/agwise-datasourcing/dataops/datasourcing/Data/Global_GeoData/Landing/Rainfall/chirps\", \n",
       "            pattern = \".nc$\", full.names = TRUE)\n",
       "    }\n",
       "    else if (varName == \"temperatureMax\") {\n",
       "        listRaster <- list.files(path = \"/home/jovyan/agwise-datasourcing/dataops/datasourcing/Data/Global_GeoData/Landing/TemperatureMax/AgEra\", \n",
       "            pattern = \".nc$\", full.names = TRUE)\n",
       "    }\n",
       "    else if (varName == \"temperatureMin\") {\n",
       "        listRaster <- list.files(path = \"/home/jovyan/agwise-datasourcing/dataops/datasourcing/Data/Global_GeoData/Landing/TemperatureMin/AgEra\", \n",
       "            pattern = \".nc$\", full.names = TRUE)\n",
       "    }\n",
       "    else if (varName == \"relativeHumidity\") {\n",
       "        listRaster <- list.files(path = \"/home/jovyan/agwise-datasourcing/dataops/datasourcing/Data/Global_GeoData/Landing/RelativeHumidity/AgEra\", \n",
       "            pattern = \".nc$\", full.names = TRUE)\n",
       "    }\n",
       "    else if (varName == \"solarRadiation\") {\n",
       "        listRaster <- list.files(path = \"/home/jovyan/agwise-datasourcing/dataops/datasourcing/Data/Global_GeoData/Landing/SolarRadiation/AgEra\", \n",
       "            pattern = \".nc$\", full.names = TRUE)\n",
       "    }\n",
       "    else if (varName == \"windSpeed\") {\n",
       "        listRaster <- list.files(path = \"/home/jovyan/agwise-datasourcing/dataops/datasourcing/Data/Global_GeoData/Landing/WindSpeed/AgEra\", \n",
       "            pattern = \".nc$\", full.names = TRUE)\n",
       "    }\n",
       "    if (AOI == TRUE & varName == \"Rainfall\") {\n",
       "        listRaster <- listRaster[10:42]\n",
       "    }\n",
       "    else if (AOI == TRUE) {\n",
       "        listRaster <- listRaster[12:44]\n",
       "    }\n",
       "    if (AOI == TRUE) {\n",
       "        countryCoord <- unique(inputData[, c(\"lon\", \"lat\")])\n",
       "        countryCoord <- countryCoord[complete.cases(countryCoord), \n",
       "            ]\n",
       "        countryCoord$startingDate <- Planting_month_date\n",
       "        countryCoord$endDate <- Harvest_month_date\n",
       "        countryCoord <- countryCoord[complete.cases(countryCoord), \n",
       "            ]\n",
       "        names(countryCoord) <- c(\"longitude\", \"latitude\", \"startingDate\", \n",
       "            \"endDate\")\n",
       "        countryCoord$ID <- c(1:nrow(countryCoord))\n",
       "        ground <- countryCoord[, c(\"longitude\", \"latitude\", \"startingDate\", \n",
       "            \"endDate\", \"ID\")]\n",
       "    }\n",
       "    else {\n",
       "        inputData <- unique(inputData[, c(\"lon\", \"lat\", \"plantingDate\", \n",
       "            \"harvestDate\")])\n",
       "        inputData$plantingDate <- as.Date(inputData$plantingDate)\n",
       "        inputData$harvestDate <- as.Date(inputData$harvestDate)\n",
       "        inputData$plantingDate <- inputData$plantingDate %m-% \n",
       "            months(1)\n",
       "        inputData <- inputData[complete.cases(inputData), ]\n",
       "        inputData$ID <- c(1:nrow(inputData))\n",
       "        names(inputData) <- c(\"longitude\", \"latitude\", \"startingDate\", \n",
       "            \"endDate\", \"ID\")\n",
       "        ground <- inputData\n",
       "    }\n",
       "    countryShp <- geodata::gadm(country, level = 2, path = \".\")\n",
       "    dd2 <- raster::extract(countryShp, ground[, c(\"longitude\", \n",
       "        \"latitude\")])[, c(\"NAME_1\", \"NAME_2\")]\n",
       "    ground$NAME_1 <- dd2$NAME_1\n",
       "    ground$NAME_2 <- dd2$NAME_2\n",
       "    if (AOI == TRUE) {\n",
       "        if (planting_harvest_sameYear == TRUE) {\n",
       "            cls <- makeCluster(jobs)\n",
       "            doParallel::registerDoParallel(cls)\n",
       "            rf_result <- foreach(i = 1:length(listRaster), .packages = c(\"terra\", \n",
       "                \"plyr\", \"stringr\", \"tidyr\")) %dopar% {\n",
       "                rasti <- listRaster[i]\n",
       "                pl_j <- as.POSIXlt(unique(ground$startingDate))$yday\n",
       "                hv_j <- as.POSIXlt(unique(ground$endDate))$yday\n",
       "                PlHvD <- terra::rast(rasti, lyrs = c(pl_j:hv_j))\n",
       "                xy <- ground[, c(\"longitude\", \"latitude\")]\n",
       "                raini <- terra::extract(PlHvD, xy, method = \"simple\", \n",
       "                  cells = FALSE)\n",
       "                raini <- raini[, -1]\n",
       "                if (varName %in% c(\"temperatureMax\", \"temperatureMin\")) {\n",
       "                  raini <- raini - 274\n",
       "                }\n",
       "                else if (varName == \"solarRadiation\") {\n",
       "                  raini <- raini/1e+06\n",
       "                }\n",
       "                ground_adj <- ground\n",
       "                lubridate::year(ground_adj$startingDate) <- as.numeric(str_extract(rasti, \n",
       "                  \"[[:digit:]]+\"))\n",
       "                lubridate::year(ground_adj$endDate) <- as.numeric(str_extract(rasti, \n",
       "                  \"[[:digit:]]+\"))\n",
       "                start <- as.Date(unique(ground_adj$startingDate))\n",
       "                maxDaysDiff <- abs(max(min(pl_j) - max(hv_j)))\n",
       "                end <- start + as.difftime(maxDaysDiff, units = \"days\")\n",
       "                ddates <- seq(from = start, to = end, by = 1)\n",
       "                ground_adj$startingDate <- as.character(ground_adj$startingDate)\n",
       "                ground_adj$endDate <- as.character(ground_adj$endDate)\n",
       "                ground2 <- cbind(ground_adj, raini)\n",
       "                ground3 <- gather(ground2, year, Rainfall, names(raini)[1]:names(raini)[length(raini)])\n",
       "                ground3$date <- ddates\n",
       "                ground3$pl_year <- as.numeric(str_extract(rast1, \n",
       "                  \"[[:digit:]]+\"))\n",
       "                ground3 <- subset(ground3, select = -c(startingDate, \n",
       "                  endDate, ID, year, NAME_2))\n",
       "            }\n",
       "            data_points <- dplyr::bind_rows(rf_result)\n",
       "            stopCluster(cls)\n",
       "        }\n",
       "        else {\n",
       "            cls <- makeCluster(jobs)\n",
       "            doParallel::registerDoParallel(cls)\n",
       "            rf_result2 <- foreach(i = 1:(length(listRaster) - \n",
       "                1), .packages = c(\"terra\", \"plyr\", \"stringr\", \n",
       "                \"tidyr\")) %dopar% {\n",
       "                listRaster <- listRaster[order(listRaster)]\n",
       "                rast1 <- listRaster[i]\n",
       "                rast2 <- listRaster[i + 1]\n",
       "                ground_adj <- ground\n",
       "                lubridate::year(ground_adj$startingDate) <- as.numeric(str_extract(rast1, \n",
       "                  \"[[:digit:]]+\"))\n",
       "                lubridate::year(ground_adj$endDate) <- as.numeric(str_extract(rast2, \n",
       "                  \"[[:digit:]]+\"))\n",
       "                start <- as.Date(unique(ground_adj$startingDate))\n",
       "                maxDaysDiff <- as.numeric(max(ground_adj$endDate) - \n",
       "                  min(ground_adj$startingDate))\n",
       "                end <- start + as.difftime(maxDaysDiff, units = \"days\")\n",
       "                ddates <- seq(from = start, to = end, by = 1)\n",
       "                pl_j <- as.POSIXlt(unique(ground_adj$startingDate))$yday\n",
       "                hv_j <- as.POSIXlt(unique(ground_adj$endDate))$yday\n",
       "                rasti1 <- terra::rast(rast1, lyrs = c(pl_j:terra::nlyr(terra::rast(rast1))))\n",
       "                rasti2 <- terra::rast(rast2, lyrs = c(1:hv_j))\n",
       "                PlHvD <- c(rasti1, rasti2)\n",
       "                xy <- ground[, c(\"longitude\", \"latitude\")]\n",
       "                raini <- terra::extract(PlHvD, xy, method = \"simple\", \n",
       "                  cells = FALSE)\n",
       "                raini <- raini[, -1]\n",
       "                if (varName %in% c(\"temperatureMax\", \"temperatureMin\")) {\n",
       "                  raini <- raini - 274\n",
       "                }\n",
       "                else if (varName == \"solarRadiation\") {\n",
       "                  raini <- raini/1e+06\n",
       "                }\n",
       "                ground2 <- cbind(ground_adj, raini)\n",
       "                ground3 <- gather(ground2, year, Rainfall, names(raini)[1]:names(raini)[length(raini)])\n",
       "                ground3$date <- ddates\n",
       "                ground3$pl_year <- as.numeric(str_extract(rast1, \n",
       "                  \"[[:digit:]]+\"))\n",
       "                ground3 <- subset(ground3, select = -c(startingDate, \n",
       "                  endDate, ID, year, NAME_2))\n",
       "            }\n",
       "            data_points <- dplyr::bind_rows(rf_result2)\n",
       "            stopCluster(cls)\n",
       "        }\n",
       "    }\n",
       "    else {\n",
       "        ground$yearPi <- as.numeric(format(as.POSIXlt(ground$startingDate), \n",
       "            \"%Y\"))\n",
       "        ground$yearHi <- as.numeric(format(as.POSIXlt(ground$endDate), \n",
       "            \"%Y\"))\n",
       "        ground <- droplevels(ground[ground$yearPi >= 1981 & ground$yearHi >= \n",
       "            1981, ])\n",
       "        ground$pl_j <- as.POSIXlt(ground$startingDate)$yday\n",
       "        ground$hv_j <- as.POSIXlt(ground$endDate)$yday\n",
       "        start <- as.Date(min(ground$startingDate))\n",
       "        maxDaysDiff <- abs(max(min(ground$pl_j) - max(ground$hv_j)))\n",
       "        end <- maxDaysDiff + as.Date(max(ground$endDate))\n",
       "        ddates <- seq(from = start, to = end, by = 1)\n",
       "        rf_names <- c(paste0(varName, \"_\", ddates))\n",
       "        rf_names2 <- as.data.frame(matrix(nrow = length(rf_names), \n",
       "            ncol = 1))\n",
       "        colnames(rf_names2) <- \"dataDate\"\n",
       "        rf_names2[, 1] <- rf_names\n",
       "        rf_names2$ID <- c(1:nrow(rf_names2))\n",
       "        data_points <- NULL\n",
       "        for (i in 1:nrow(ground)) {\n",
       "            print(i)\n",
       "            groundi <- ground[i, c(\"longitude\", \"latitude\", \"startingDate\", \n",
       "                \"endDate\", \"ID\", \"NAME_1\", \"NAME_2\", \"yearPi\", \n",
       "                \"yearHi\", \"pl_j\", \"hv_j\")]\n",
       "            yearPi <- as.numeric(groundi$yearPi)\n",
       "            yearHi <- as.numeric(groundi$yearHi)\n",
       "            pl_j <- groundi$pl_j\n",
       "            hv_j <- groundi$hv_j\n",
       "            if (yearPi == yearHi) {\n",
       "                rasti <- listRaster[which(grepl(yearPi, listRaster, \n",
       "                  fixed = TRUE) == T)]\n",
       "                rasti <- terra::rast(rasti, lyrs = c(pl_j:hv_j))\n",
       "            }\n",
       "            if (yearPi < yearHi) {\n",
       "                rasti1 <- listRaster[which(grepl(yearPi, listRaster, \n",
       "                  fixed = TRUE) == T)]\n",
       "                rasti1 <- terra::rast(rasti1, lyrs = c(pl_j:terra::nlyr(terra::rast(rasti1))))\n",
       "                rasti2 <- listRaster[which(grepl(yearHi, listRaster, \n",
       "                  fixed = TRUE) == T)]\n",
       "                rasti2 <- terra::rast(rasti2, lyrs = c(1:hv_j))\n",
       "                rasti <- c(rasti1, rasti2)\n",
       "            }\n",
       "            xy <- groundi[, c(\"longitude\", \"latitude\")]\n",
       "            xy <- xy %>% mutate_if(is.character, as.numeric)\n",
       "            raini <- terra::extract(rasti, xy, method = \"simple\", \n",
       "                cells = FALSE)\n",
       "            raini <- raini[, -1]\n",
       "            if (varName %in% c(\"temperatureMax\", \"temperatureMin\")) {\n",
       "                raini <- raini - 274\n",
       "            }\n",
       "            else if (varName == \"solarRadiation\") {\n",
       "                raini <- raini/1e+06\n",
       "            }\n",
       "            start <- as.Date(unique(groundi$startingDate))\n",
       "            maxDaysDiff <- as.numeric(groundi$endDate - groundi$startingDate)\n",
       "            end <- start + as.difftime(maxDaysDiff, units = \"days\")\n",
       "            ddates <- seq(from = start, to = end, by = 1)\n",
       "            names(raini) <- paste(varName, ddates, sep = \"_\")\n",
       "            raini <- as.data.frame(t(raini))\n",
       "            raini$dataDate <- rownames(raini)\n",
       "            rownames(raini) <- NULL\n",
       "            raini <- merge(raini, rf_names2, by = \"dataDate\", \n",
       "                all.y = TRUE)\n",
       "            raini <- raini[order(raini$ID), ]\n",
       "            rownames(raini) <- raini$dataDate\n",
       "            raini <- raini %>% dplyr::select(-c(ID, dataDate))\n",
       "            raini2 <- as.data.frame(t(raini))\n",
       "            rownames(raini2) <- NULL\n",
       "            raini2 <- cbind(groundi, raini2)\n",
       "            data_points <- rbind(data_points, raini2)\n",
       "        }\n",
       "    }\n",
       "    data_points <- data_points %>% select_if(~sum(!is.na(.)) > \n",
       "        0)\n",
       "    return(data_points)\n",
       "}\n",
       "```"
      ],
      "text/plain": [
       "function (country, useCaseName, Crop, AOI = FALSE, Planting_month_date = NULL, \n",
       "    Harvest_month_date = NULL, varName, plantingWindow = 1, jobs) \n",
       "{\n",
       "    if (AOI == TRUE) {\n",
       "        inputData <- readRDS(paste(\"~/agwise-datacuration/dataops/datacuration/Data/useCase_\", \n",
       "            country, \"_\", useCaseName, \"/\", Crop, \"/result/AOI_GPS.RDS\", \n",
       "            sep = \"\"))\n",
       "    }\n",
       "    else {\n",
       "        inputData <- readRDS(paste(\"~/agwise-datacuration/dataops/datacuration/Data/useCase_\", \n",
       "            country, \"_\", useCaseName, \"/\", Crop, \"/result/compiled_fieldData.RDS\", \n",
       "            sep = \"\"))\n",
       "    }\n",
       "    pathOut1 <- paste(\"~/agwise-datasourcing/dataops/datasourcing/Data/useCase_\", \n",
       "        country, \"_\", useCaseName, \"/\", Crop, \"/result/\", sep = \"\")\n",
       "    if (!dir.exists(pathOut1)) {\n",
       "        dir.create(file.path(pathOut1), recursive = TRUE)\n",
       "    }\n",
       "    if (AOI == TRUE) {\n",
       "        if (is.null(Planting_month_date) | is.null(Harvest_month_date)) {\n",
       "            print(\"with AOI=TRUE, Planting_month_date, Harvest_month_date can not be null, please refer to the documentation and provide mm-dd for both parameters\")\n",
       "            return(NULL)\n",
       "        }\n",
       "        Planting_month <- as.numeric(str_extract(Planting_month_date, \n",
       "            \"[^-]+\"))\n",
       "        Harvest_month <- as.numeric(str_extract(Harvest_month_date, \n",
       "            \"[^-]+\"))\n",
       "        if (Planting_month < Harvest_month) {\n",
       "            planting_harvest_sameYear <- TRUE\n",
       "            py <- 2000\n",
       "            hy <- 2000\n",
       "        }\n",
       "        else {\n",
       "            planting_harvest_sameYear <- FALSE\n",
       "            py <- 2000\n",
       "            hy <- 2001\n",
       "        }\n",
       "        Planting_month_date <- as.Date(paste0(py, \"-\", Planting_month_date))\n",
       "        Planting_month_date <- Planting_month_date %m-% months(1)\n",
       "        Harvest_month_date <- as.Date(paste0(hy, \"-\", Harvest_month_date))\n",
       "        if (plantingWindow > 1 & plantingWindow <= 5) {\n",
       "            Harvest_month_date <- Harvest_month_date %m+% months(1)\n",
       "        }\n",
       "        else if (plantingWindow > 5 & plantingWindow <= 8) {\n",
       "            Harvest_month_date <- Harvest_month_date %m+% months(2)\n",
       "        }\n",
       "        else if (plantingWindow > 8 & plantingWindow <= 12) {\n",
       "            Harvest_month_date <- Harvest_month_date %m+% months(3)\n",
       "        }\n",
       "    }\n",
       "    if (varName == \"Rainfall\") {\n",
       "        listRaster <- list.files(path = \"/home/jovyan/agwise-datasourcing/dataops/datasourcing/Data/Global_GeoData/Landing/Rainfall/chirps\", \n",
       "            pattern = \".nc$\", full.names = TRUE)\n",
       "    }\n",
       "    else if (varName == \"temperatureMax\") {\n",
       "        listRaster <- list.files(path = \"/home/jovyan/agwise-datasourcing/dataops/datasourcing/Data/Global_GeoData/Landing/TemperatureMax/AgEra\", \n",
       "            pattern = \".nc$\", full.names = TRUE)\n",
       "    }\n",
       "    else if (varName == \"temperatureMin\") {\n",
       "        listRaster <- list.files(path = \"/home/jovyan/agwise-datasourcing/dataops/datasourcing/Data/Global_GeoData/Landing/TemperatureMin/AgEra\", \n",
       "            pattern = \".nc$\", full.names = TRUE)\n",
       "    }\n",
       "    else if (varName == \"relativeHumidity\") {\n",
       "        listRaster <- list.files(path = \"/home/jovyan/agwise-datasourcing/dataops/datasourcing/Data/Global_GeoData/Landing/RelativeHumidity/AgEra\", \n",
       "            pattern = \".nc$\", full.names = TRUE)\n",
       "    }\n",
       "    else if (varName == \"solarRadiation\") {\n",
       "        listRaster <- list.files(path = \"/home/jovyan/agwise-datasourcing/dataops/datasourcing/Data/Global_GeoData/Landing/SolarRadiation/AgEra\", \n",
       "            pattern = \".nc$\", full.names = TRUE)\n",
       "    }\n",
       "    else if (varName == \"windSpeed\") {\n",
       "        listRaster <- list.files(path = \"/home/jovyan/agwise-datasourcing/dataops/datasourcing/Data/Global_GeoData/Landing/WindSpeed/AgEra\", \n",
       "            pattern = \".nc$\", full.names = TRUE)\n",
       "    }\n",
       "    if (AOI == TRUE & varName == \"Rainfall\") {\n",
       "        listRaster <- listRaster[10:42]\n",
       "    }\n",
       "    else if (AOI == TRUE) {\n",
       "        listRaster <- listRaster[12:44]\n",
       "    }\n",
       "    if (AOI == TRUE) {\n",
       "        countryCoord <- unique(inputData[, c(\"lon\", \"lat\")])\n",
       "        countryCoord <- countryCoord[complete.cases(countryCoord), \n",
       "            ]\n",
       "        countryCoord$startingDate <- Planting_month_date\n",
       "        countryCoord$endDate <- Harvest_month_date\n",
       "        countryCoord <- countryCoord[complete.cases(countryCoord), \n",
       "            ]\n",
       "        names(countryCoord) <- c(\"longitude\", \"latitude\", \"startingDate\", \n",
       "            \"endDate\")\n",
       "        countryCoord$ID <- c(1:nrow(countryCoord))\n",
       "        ground <- countryCoord[, c(\"longitude\", \"latitude\", \"startingDate\", \n",
       "            \"endDate\", \"ID\")]\n",
       "    }\n",
       "    else {\n",
       "        inputData <- unique(inputData[, c(\"lon\", \"lat\", \"plantingDate\", \n",
       "            \"harvestDate\")])\n",
       "        inputData$plantingDate <- as.Date(inputData$plantingDate)\n",
       "        inputData$harvestDate <- as.Date(inputData$harvestDate)\n",
       "        inputData$plantingDate <- inputData$plantingDate %m-% \n",
       "            months(1)\n",
       "        inputData <- inputData[complete.cases(inputData), ]\n",
       "        inputData$ID <- c(1:nrow(inputData))\n",
       "        names(inputData) <- c(\"longitude\", \"latitude\", \"startingDate\", \n",
       "            \"endDate\", \"ID\")\n",
       "        ground <- inputData\n",
       "    }\n",
       "    countryShp <- geodata::gadm(country, level = 2, path = \".\")\n",
       "    dd2 <- raster::extract(countryShp, ground[, c(\"longitude\", \n",
       "        \"latitude\")])[, c(\"NAME_1\", \"NAME_2\")]\n",
       "    ground$NAME_1 <- dd2$NAME_1\n",
       "    ground$NAME_2 <- dd2$NAME_2\n",
       "    if (AOI == TRUE) {\n",
       "        if (planting_harvest_sameYear == TRUE) {\n",
       "            cls <- makeCluster(jobs)\n",
       "            doParallel::registerDoParallel(cls)\n",
       "            rf_result <- foreach(i = 1:length(listRaster), .packages = c(\"terra\", \n",
       "                \"plyr\", \"stringr\", \"tidyr\")) %dopar% {\n",
       "                rasti <- listRaster[i]\n",
       "                pl_j <- as.POSIXlt(unique(ground$startingDate))$yday\n",
       "                hv_j <- as.POSIXlt(unique(ground$endDate))$yday\n",
       "                PlHvD <- terra::rast(rasti, lyrs = c(pl_j:hv_j))\n",
       "                xy <- ground[, c(\"longitude\", \"latitude\")]\n",
       "                raini <- terra::extract(PlHvD, xy, method = \"simple\", \n",
       "                  cells = FALSE)\n",
       "                raini <- raini[, -1]\n",
       "                if (varName %in% c(\"temperatureMax\", \"temperatureMin\")) {\n",
       "                  raini <- raini - 274\n",
       "                }\n",
       "                else if (varName == \"solarRadiation\") {\n",
       "                  raini <- raini/1e+06\n",
       "                }\n",
       "                ground_adj <- ground\n",
       "                lubridate::year(ground_adj$startingDate) <- as.numeric(str_extract(rasti, \n",
       "                  \"[[:digit:]]+\"))\n",
       "                lubridate::year(ground_adj$endDate) <- as.numeric(str_extract(rasti, \n",
       "                  \"[[:digit:]]+\"))\n",
       "                start <- as.Date(unique(ground_adj$startingDate))\n",
       "                maxDaysDiff <- abs(max(min(pl_j) - max(hv_j)))\n",
       "                end <- start + as.difftime(maxDaysDiff, units = \"days\")\n",
       "                ddates <- seq(from = start, to = end, by = 1)\n",
       "                ground_adj$startingDate <- as.character(ground_adj$startingDate)\n",
       "                ground_adj$endDate <- as.character(ground_adj$endDate)\n",
       "                ground2 <- cbind(ground_adj, raini)\n",
       "                ground3 <- gather(ground2, year, Rainfall, names(raini)[1]:names(raini)[length(raini)])\n",
       "                ground3$date <- ddates\n",
       "                ground3$pl_year <- as.numeric(str_extract(rast1, \n",
       "                  \"[[:digit:]]+\"))\n",
       "                ground3 <- subset(ground3, select = -c(startingDate, \n",
       "                  endDate, ID, year, NAME_2))\n",
       "            }\n",
       "            data_points <- dplyr::bind_rows(rf_result)\n",
       "            stopCluster(cls)\n",
       "        }\n",
       "        else {\n",
       "            cls <- makeCluster(jobs)\n",
       "            doParallel::registerDoParallel(cls)\n",
       "            rf_result2 <- foreach(i = 1:(length(listRaster) - \n",
       "                1), .packages = c(\"terra\", \"plyr\", \"stringr\", \n",
       "                \"tidyr\")) %dopar% {\n",
       "                listRaster <- listRaster[order(listRaster)]\n",
       "                rast1 <- listRaster[i]\n",
       "                rast2 <- listRaster[i + 1]\n",
       "                ground_adj <- ground\n",
       "                lubridate::year(ground_adj$startingDate) <- as.numeric(str_extract(rast1, \n",
       "                  \"[[:digit:]]+\"))\n",
       "                lubridate::year(ground_adj$endDate) <- as.numeric(str_extract(rast2, \n",
       "                  \"[[:digit:]]+\"))\n",
       "                start <- as.Date(unique(ground_adj$startingDate))\n",
       "                maxDaysDiff <- as.numeric(max(ground_adj$endDate) - \n",
       "                  min(ground_adj$startingDate))\n",
       "                end <- start + as.difftime(maxDaysDiff, units = \"days\")\n",
       "                ddates <- seq(from = start, to = end, by = 1)\n",
       "                pl_j <- as.POSIXlt(unique(ground_adj$startingDate))$yday\n",
       "                hv_j <- as.POSIXlt(unique(ground_adj$endDate))$yday\n",
       "                rasti1 <- terra::rast(rast1, lyrs = c(pl_j:terra::nlyr(terra::rast(rast1))))\n",
       "                rasti2 <- terra::rast(rast2, lyrs = c(1:hv_j))\n",
       "                PlHvD <- c(rasti1, rasti2)\n",
       "                xy <- ground[, c(\"longitude\", \"latitude\")]\n",
       "                raini <- terra::extract(PlHvD, xy, method = \"simple\", \n",
       "                  cells = FALSE)\n",
       "                raini <- raini[, -1]\n",
       "                if (varName %in% c(\"temperatureMax\", \"temperatureMin\")) {\n",
       "                  raini <- raini - 274\n",
       "                }\n",
       "                else if (varName == \"solarRadiation\") {\n",
       "                  raini <- raini/1e+06\n",
       "                }\n",
       "                ground2 <- cbind(ground_adj, raini)\n",
       "                ground3 <- gather(ground2, year, Rainfall, names(raini)[1]:names(raini)[length(raini)])\n",
       "                ground3$date <- ddates\n",
       "                ground3$pl_year <- as.numeric(str_extract(rast1, \n",
       "                  \"[[:digit:]]+\"))\n",
       "                ground3 <- subset(ground3, select = -c(startingDate, \n",
       "                  endDate, ID, year, NAME_2))\n",
       "            }\n",
       "            data_points <- dplyr::bind_rows(rf_result2)\n",
       "            stopCluster(cls)\n",
       "        }\n",
       "    }\n",
       "    else {\n",
       "        ground$yearPi <- as.numeric(format(as.POSIXlt(ground$startingDate), \n",
       "            \"%Y\"))\n",
       "        ground$yearHi <- as.numeric(format(as.POSIXlt(ground$endDate), \n",
       "            \"%Y\"))\n",
       "        ground <- droplevels(ground[ground$yearPi >= 1981 & ground$yearHi >= \n",
       "            1981, ])\n",
       "        ground$pl_j <- as.POSIXlt(ground$startingDate)$yday\n",
       "        ground$hv_j <- as.POSIXlt(ground$endDate)$yday\n",
       "        start <- as.Date(min(ground$startingDate))\n",
       "        maxDaysDiff <- abs(max(min(ground$pl_j) - max(ground$hv_j)))\n",
       "        end <- maxDaysDiff + as.Date(max(ground$endDate))\n",
       "        ddates <- seq(from = start, to = end, by = 1)\n",
       "        rf_names <- c(paste0(varName, \"_\", ddates))\n",
       "        rf_names2 <- as.data.frame(matrix(nrow = length(rf_names), \n",
       "            ncol = 1))\n",
       "        colnames(rf_names2) <- \"dataDate\"\n",
       "        rf_names2[, 1] <- rf_names\n",
       "        rf_names2$ID <- c(1:nrow(rf_names2))\n",
       "        data_points <- NULL\n",
       "        for (i in 1:nrow(ground)) {\n",
       "            print(i)\n",
       "            groundi <- ground[i, c(\"longitude\", \"latitude\", \"startingDate\", \n",
       "                \"endDate\", \"ID\", \"NAME_1\", \"NAME_2\", \"yearPi\", \n",
       "                \"yearHi\", \"pl_j\", \"hv_j\")]\n",
       "            yearPi <- as.numeric(groundi$yearPi)\n",
       "            yearHi <- as.numeric(groundi$yearHi)\n",
       "            pl_j <- groundi$pl_j\n",
       "            hv_j <- groundi$hv_j\n",
       "            if (yearPi == yearHi) {\n",
       "                rasti <- listRaster[which(grepl(yearPi, listRaster, \n",
       "                  fixed = TRUE) == T)]\n",
       "                rasti <- terra::rast(rasti, lyrs = c(pl_j:hv_j))\n",
       "            }\n",
       "            if (yearPi < yearHi) {\n",
       "                rasti1 <- listRaster[which(grepl(yearPi, listRaster, \n",
       "                  fixed = TRUE) == T)]\n",
       "                rasti1 <- terra::rast(rasti1, lyrs = c(pl_j:terra::nlyr(terra::rast(rasti1))))\n",
       "                rasti2 <- listRaster[which(grepl(yearHi, listRaster, \n",
       "                  fixed = TRUE) == T)]\n",
       "                rasti2 <- terra::rast(rasti2, lyrs = c(1:hv_j))\n",
       "                rasti <- c(rasti1, rasti2)\n",
       "            }\n",
       "            xy <- groundi[, c(\"longitude\", \"latitude\")]\n",
       "            xy <- xy %>% mutate_if(is.character, as.numeric)\n",
       "            raini <- terra::extract(rasti, xy, method = \"simple\", \n",
       "                cells = FALSE)\n",
       "            raini <- raini[, -1]\n",
       "            if (varName %in% c(\"temperatureMax\", \"temperatureMin\")) {\n",
       "                raini <- raini - 274\n",
       "            }\n",
       "            else if (varName == \"solarRadiation\") {\n",
       "                raini <- raini/1e+06\n",
       "            }\n",
       "            start <- as.Date(unique(groundi$startingDate))\n",
       "            maxDaysDiff <- as.numeric(groundi$endDate - groundi$startingDate)\n",
       "            end <- start + as.difftime(maxDaysDiff, units = \"days\")\n",
       "            ddates <- seq(from = start, to = end, by = 1)\n",
       "            names(raini) <- paste(varName, ddates, sep = \"_\")\n",
       "            raini <- as.data.frame(t(raini))\n",
       "            raini$dataDate <- rownames(raini)\n",
       "            rownames(raini) <- NULL\n",
       "            raini <- merge(raini, rf_names2, by = \"dataDate\", \n",
       "                all.y = TRUE)\n",
       "            raini <- raini[order(raini$ID), ]\n",
       "            rownames(raini) <- raini$dataDate\n",
       "            raini <- raini %>% dplyr::select(-c(ID, dataDate))\n",
       "            raini2 <- as.data.frame(t(raini))\n",
       "            rownames(raini2) <- NULL\n",
       "            raini2 <- cbind(groundi, raini2)\n",
       "            data_points <- rbind(data_points, raini2)\n",
       "        }\n",
       "    }\n",
       "    data_points <- data_points %>% select_if(~sum(!is.na(.)) > \n",
       "        0)\n",
       "    return(data_points)\n",
       "}\n",
       "<bytecode: 0x5588c716df88>"
      ]
     },
     "metadata": {},
     "output_type": "display_data"
    }
   ],
   "source": [
    "get_weather_seasonality"
   ]
  },
  {
   "cell_type": "code",
   "execution_count": 48,
   "id": "142c6445-ff99-4d40-8859-063793f5cfa8",
   "metadata": {
    "execution": {
     "iopub.execute_input": "2023-10-19T11:02:31.821892Z",
     "iopub.status.busy": "2023-10-19T11:02:31.818347Z",
     "iopub.status.idle": "2023-10-19T11:02:31.836250Z",
     "shell.execute_reply": "2023-10-19T11:02:31.834474Z"
    },
    "tags": []
   },
   "outputs": [],
   "source": [
    "setwd(\"~/agwise-datasourcing/dataops/datasourcing/Data/useCase_Malawi_Solidaridad/Soybean/result\")"
   ]
  },
  {
   "cell_type": "code",
   "execution_count": 49,
   "id": "faab779e-9a66-4f77-94ac-e325cd9a3f60",
   "metadata": {
    "execution": {
     "iopub.execute_input": "2023-10-19T11:02:37.732113Z",
     "iopub.status.busy": "2023-10-19T11:02:37.728791Z",
     "iopub.status.idle": "2023-10-19T11:02:37.749499Z",
     "shell.execute_reply": "2023-10-19T11:02:37.747955Z"
    },
    "tags": []
   },
   "outputs": [
    {
     "data": {
      "text/html": [
       "<style>\n",
       ".list-inline {list-style: none; margin:0; padding: 0}\n",
       ".list-inline>li {display: inline-block}\n",
       ".list-inline>li:not(:last-child)::after {content: \"\\00b7\"; padding: 0 .5ex}\n",
       "</style>\n",
       "<ol class=list-inline><li>'extract_geoSpatialPointData'</li><li>'get_soil_DEM_pointData'</li><li>'get_weather_pointData'</li><li>'get_weather_seasonality'</li><li>'get_WeatherSummarydata'</li><li>'installed_packages'</li><li>'join_geospatial_4ML'</li><li>'packages_required'</li><li>'summarize_pointdata'</li></ol>\n"
      ],
      "text/latex": [
       "\\begin{enumerate*}\n",
       "\\item 'extract\\_geoSpatialPointData'\n",
       "\\item 'get\\_soil\\_DEM\\_pointData'\n",
       "\\item 'get\\_weather\\_pointData'\n",
       "\\item 'get\\_weather\\_seasonality'\n",
       "\\item 'get\\_WeatherSummarydata'\n",
       "\\item 'installed\\_packages'\n",
       "\\item 'join\\_geospatial\\_4ML'\n",
       "\\item 'packages\\_required'\n",
       "\\item 'summarize\\_pointdata'\n",
       "\\end{enumerate*}\n"
      ],
      "text/markdown": [
       "1. 'extract_geoSpatialPointData'\n",
       "2. 'get_soil_DEM_pointData'\n",
       "3. 'get_weather_pointData'\n",
       "4. 'get_weather_seasonality'\n",
       "5. 'get_WeatherSummarydata'\n",
       "6. 'installed_packages'\n",
       "7. 'join_geospatial_4ML'\n",
       "8. 'packages_required'\n",
       "9. 'summarize_pointdata'\n",
       "\n",
       "\n"
      ],
      "text/plain": [
       "[1] \"extract_geoSpatialPointData\" \"get_soil_DEM_pointData\"     \n",
       "[3] \"get_weather_pointData\"       \"get_weather_seasonality\"    \n",
       "[5] \"get_WeatherSummarydata\"      \"installed_packages\"         \n",
       "[7] \"join_geospatial_4ML\"         \"packages_required\"          \n",
       "[9] \"summarize_pointdata\"        "
      ]
     },
     "metadata": {},
     "output_type": "display_data"
    }
   ],
   "source": [
    "ls()"
   ]
  },
  {
   "cell_type": "code",
   "execution_count": 50,
   "id": "d4b2795b-3fc0-4f9f-9907-af00bc0b0c7f",
   "metadata": {
    "execution": {
     "iopub.execute_input": "2023-10-19T11:02:53.351292Z",
     "iopub.status.busy": "2023-10-19T11:02:53.347991Z",
     "iopub.status.idle": "2023-10-19T11:02:53.368916Z",
     "shell.execute_reply": "2023-10-19T11:02:53.367351Z"
    },
    "tags": []
   },
   "outputs": [
    {
     "data": {
      "text/html": [
       "'/home/jovyan/agwise-datasourcing/dataops/datasourcing/Data/useCase_Malawi_Solidaridad/Soybean/result'"
      ],
      "text/latex": [
       "'/home/jovyan/agwise-datasourcing/dataops/datasourcing/Data/useCase\\_Malawi\\_Solidaridad/Soybean/result'"
      ],
      "text/markdown": [
       "'/home/jovyan/agwise-datasourcing/dataops/datasourcing/Data/useCase_Malawi_Solidaridad/Soybean/result'"
      ],
      "text/plain": [
       "[1] \"/home/jovyan/agwise-datasourcing/dataops/datasourcing/Data/useCase_Malawi_Solidaridad/Soybean/result\""
      ]
     },
     "metadata": {},
     "output_type": "display_data"
    }
   ],
   "source": [
    "getwd()"
   ]
  },
  {
   "cell_type": "code",
   "execution_count": null,
   "id": "f98bdd07-4250-47fb-9f04-e91e87969e8c",
   "metadata": {},
   "outputs": [],
   "source": []
  }
 ],
 "metadata": {
  "kernelspec": {
   "display_name": "R",
   "language": "R",
   "name": "ir"
  },
  "language_info": {
   "codemirror_mode": "r",
   "file_extension": ".r",
   "mimetype": "text/x-r-source",
   "name": "R",
   "pygments_lexer": "r",
   "version": "4.2.2"
  }
 },
 "nbformat": 4,
 "nbformat_minor": 5
}
